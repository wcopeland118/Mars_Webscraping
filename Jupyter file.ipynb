{
 "cells": [
  {
   "cell_type": "markdown",
   "metadata": {},
   "source": [
    "## Setup and Data Collection"
   ]
  },
  {
   "cell_type": "code",
   "execution_count": 6,
   "metadata": {},
   "outputs": [],
   "source": [
    "# Dependencies\n",
    "# ----------------------------------\n",
    "# Imports the method used for connecting to DBs\n",
    "from sqlalchemy import create_engine\n",
    "\n",
    "# Imports the methods needed to abstract classes into tables\n",
    "from sqlalchemy.ext.declarative import declarative_base\n",
    "\n",
    "# Allow us to declare column types\n",
    "from sqlalchemy import Column, Integer, String, Float \n",
    "\n",
    "import numpy as np\n",
    "import pandas as pd\n",
    "\n",
    "import sys\n",
    "sys.path.append(\"..\")\n",
    "from cred.cred_user import username\n",
    "from cred.cred_p import pgpass\n",
    "from cred.cred_host import host_loc\n",
    "from cred.cred_port import cred_port\n",
    "\n",
    "db = \"Proj_ETL\"\n"
   ]
  },
  {
   "cell_type": "code",
   "execution_count": 2,
   "metadata": {
    "scrolled": true
   },
   "outputs": [
    {
     "data": {
      "text/html": [
       "<div>\n",
       "<style scoped>\n",
       "    .dataframe tbody tr th:only-of-type {\n",
       "        vertical-align: middle;\n",
       "    }\n",
       "\n",
       "    .dataframe tbody tr th {\n",
       "        vertical-align: top;\n",
       "    }\n",
       "\n",
       "    .dataframe thead th {\n",
       "        text-align: right;\n",
       "    }\n",
       "</style>\n",
       "<table border=\"1\" class=\"dataframe\">\n",
       "  <thead>\n",
       "    <tr style=\"text-align: right;\">\n",
       "      <th></th>\n",
       "      <th>Unnamed: 0</th>\n",
       "      <th>citation_abstract</th>\n",
       "      <th>citation_author</th>\n",
       "      <th>citation_author_email</th>\n",
       "      <th>citation_author_institution</th>\n",
       "      <th>citation_date</th>\n",
       "      <th>citation_doi</th>\n",
       "      <th>citation_issn</th>\n",
       "      <th>citation_journal_abbrev</th>\n",
       "      <th>citation_journal_title</th>\n",
       "      <th>...</th>\n",
       "      <th>citation_publisher</th>\n",
       "      <th>citation_title</th>\n",
       "      <th>citation_volume</th>\n",
       "      <th>dc.identifier</th>\n",
       "      <th>description</th>\n",
       "      <th>img</th>\n",
       "      <th>keywords</th>\n",
       "      <th>text</th>\n",
       "      <th>title</th>\n",
       "      <th>url</th>\n",
       "    </tr>\n",
       "  </thead>\n",
       "  <tbody>\n",
       "    <tr>\n",
       "      <th>0</th>\n",
       "      <td>0</td>\n",
       "      <td>The peripheral nervous system has an intrinsic...</td>\n",
       "      <td>Offen, Daniel</td>\n",
       "      <td>danioffen@gmail.com</td>\n",
       "      <td>Sackler Faculty of Medicine, Tel Aviv Universi...</td>\n",
       "      <td>2019.0</td>\n",
       "      <td>10.3389/fnins.2019.00151</td>\n",
       "      <td>1662-453X</td>\n",
       "      <td>Front. Neurosci.</td>\n",
       "      <td>Frontiers in Neuroscience</td>\n",
       "      <td>...</td>\n",
       "      <td>Frontiers</td>\n",
       "      <td>HUMAN MUSCLE PROGENITOR CELLS OVEREXPRESSING N...</td>\n",
       "      <td>13.0</td>\n",
       "      <td>NaN</td>\n",
       "      <td>The peripheral nervous system has an intrinsic...</td>\n",
       "      <td>https://www.frontiersin.org/files/MyHome%20Art...</td>\n",
       "      <td>Human muscle progenitor cells; Neurotrophic fa...</td>\n",
       "      <td>HUMAN MUSCLE PROGENITOR CELLS OVEREXPRESSING N...</td>\n",
       "      <td>HUMAN MUSCLE PROGENITOR CELLS OVEREXPRESSING N...</td>\n",
       "      <td>https://www.frontiersin.org/articles/10.3389/f...</td>\n",
       "    </tr>\n",
       "    <tr>\n",
       "      <th>1</th>\n",
       "      <td>1</td>\n",
       "      <td>In this study, we explore the functional role ...</td>\n",
       "      <td>Molkov, Yaroslav I.</td>\n",
       "      <td>NaN</td>\n",
       "      <td>Department of Mathematics and Statistics, Geor...</td>\n",
       "      <td>2019.0</td>\n",
       "      <td>10.3389/fncir.2019.00010</td>\n",
       "      <td>1662-5110</td>\n",
       "      <td>Front. Neural Circuits</td>\n",
       "      <td>Frontiers in Neural Circuits</td>\n",
       "      <td>...</td>\n",
       "      <td>Frontiers</td>\n",
       "      <td>The Functional Role of Striatal Cholinergic In...</td>\n",
       "      <td>13.0</td>\n",
       "      <td>doi:10.3389/fncir.2019.00010</td>\n",
       "      <td>In this study, we explore the functional role ...</td>\n",
       "      <td>https://www.frontiersin.org/files/MyHome%20Art...</td>\n",
       "      <td>Striatum; Basal Ganglia; Reinforcement   Learn...</td>\n",
       "      <td>In this study, we explore the functional role ...</td>\n",
       "      <td>The Functional Role of Striatal Cholinergic In...</td>\n",
       "      <td>https://www.frontiersin.org/articles/10.3389/f...</td>\n",
       "    </tr>\n",
       "    <tr>\n",
       "      <th>2</th>\n",
       "      <td>2</td>\n",
       "      <td>Recent studies clearly indicate that endocrine...</td>\n",
       "      <td>Herman-Antosiewicz, Anna</td>\n",
       "      <td>anna.herman@biol.ug.edu.pl</td>\n",
       "      <td>University of Gdansk, Gdansk, 80-952, Pomerani...</td>\n",
       "      <td>2019.0</td>\n",
       "      <td>10.3389/fnins.2019.00165</td>\n",
       "      <td>1662-453X</td>\n",
       "      <td>Front. Neurosci.</td>\n",
       "      <td>Frontiers in Neuroscience</td>\n",
       "      <td>...</td>\n",
       "      <td>Frontiers</td>\n",
       "      <td>Iron Metabolism of the Skeletal Muscle and Neu...</td>\n",
       "      <td>13.0</td>\n",
       "      <td>NaN</td>\n",
       "      <td>Recent studies clearly indicate that endocrine...</td>\n",
       "      <td>https://www.frontiersin.org/files/MyHome%20Art...</td>\n",
       "      <td>myokine, ; Iron,; ALS, amyotrophic lateral scl...</td>\n",
       "      <td>Iron Metabolism of the Skeletal Muscle and Neu...</td>\n",
       "      <td>Iron Metabolism of the Skeletal Muscle and Neu...</td>\n",
       "      <td>https://www.frontiersin.org/articles/10.3389/f...</td>\n",
       "    </tr>\n",
       "    <tr>\n",
       "      <th>3</th>\n",
       "      <td>3</td>\n",
       "      <td>Emerging neuroimaging studies emphasize the dy...</td>\n",
       "      <td>Wang, Zheng</td>\n",
       "      <td>zheng.wang@ion.ac.cn</td>\n",
       "      <td>Institute of Neuroscience, Shanghai Institutes...</td>\n",
       "      <td>2019.0</td>\n",
       "      <td>10.3389/fnins.2019.00174</td>\n",
       "      <td>1662-453X</td>\n",
       "      <td>Front. Neurosci.</td>\n",
       "      <td>Frontiers in Neuroscience</td>\n",
       "      <td>...</td>\n",
       "      <td>Frontiers</td>\n",
       "      <td>Brain Map of Intrinsic Functional Flexibility ...</td>\n",
       "      <td>13.0</td>\n",
       "      <td>NaN</td>\n",
       "      <td>Emerging neuroimaging studies emphasize the dy...</td>\n",
       "      <td>https://www.frontiersin.org/files/MyHome%20Art...</td>\n",
       "      <td>dynamic brain organization; intrinsic function...</td>\n",
       "      <td>Brain Map of Intrinsic Functional Flexibility ...</td>\n",
       "      <td>Brain Map of Intrinsic Functional Flexibility ...</td>\n",
       "      <td>https://www.frontiersin.org/articles/10.3389/f...</td>\n",
       "    </tr>\n",
       "    <tr>\n",
       "      <th>4</th>\n",
       "      <td>4</td>\n",
       "      <td>The disruption of iron metabolism and iron tra...</td>\n",
       "      <td>So, Po-Wah</td>\n",
       "      <td>Po-wah.so@kcl.ac.uk</td>\n",
       "      <td>King's College London, London, WC2R 2LS, Unite...</td>\n",
       "      <td>2019.0</td>\n",
       "      <td>10.3389/fnins.2019.00181</td>\n",
       "      <td>1662-453X</td>\n",
       "      <td>Front. Neurosci.</td>\n",
       "      <td>Frontiers in Neuroscience</td>\n",
       "      <td>...</td>\n",
       "      <td>Frontiers</td>\n",
       "      <td>Low CSF melanotransferrin is associated with c...</td>\n",
       "      <td>13.0</td>\n",
       "      <td>NaN</td>\n",
       "      <td>The disruption of iron metabolism and iron tra...</td>\n",
       "      <td>https://www.frontiersin.org/files/MyHome%20Art...</td>\n",
       "      <td>Alzheimer’s disease; CSF; Iron; MCI; Melanotra...</td>\n",
       "      <td>Low CSF melanotransferrin is associated with c...</td>\n",
       "      <td>Low CSF melanotransferrin is associated with c...</td>\n",
       "      <td>https://www.frontiersin.org/articles/10.3389/f...</td>\n",
       "    </tr>\n",
       "  </tbody>\n",
       "</table>\n",
       "<p>5 rows × 26 columns</p>\n",
       "</div>"
      ],
      "text/plain": [
       "   Unnamed: 0                                  citation_abstract  \\\n",
       "0           0  The peripheral nervous system has an intrinsic...   \n",
       "1           1  In this study, we explore the functional role ...   \n",
       "2           2  Recent studies clearly indicate that endocrine...   \n",
       "3           3  Emerging neuroimaging studies emphasize the dy...   \n",
       "4           4  The disruption of iron metabolism and iron tra...   \n",
       "\n",
       "            citation_author       citation_author_email  \\\n",
       "0             Offen, Daniel         danioffen@gmail.com   \n",
       "1       Molkov, Yaroslav I.                         NaN   \n",
       "2  Herman-Antosiewicz, Anna  anna.herman@biol.ug.edu.pl   \n",
       "3               Wang, Zheng        zheng.wang@ion.ac.cn   \n",
       "4                So, Po-Wah         Po-wah.so@kcl.ac.uk   \n",
       "\n",
       "                         citation_author_institution  citation_date  \\\n",
       "0  Sackler Faculty of Medicine, Tel Aviv Universi...         2019.0   \n",
       "1  Department of Mathematics and Statistics, Geor...         2019.0   \n",
       "2  University of Gdansk, Gdansk, 80-952, Pomerani...         2019.0   \n",
       "3  Institute of Neuroscience, Shanghai Institutes...         2019.0   \n",
       "4  King's College London, London, WC2R 2LS, Unite...         2019.0   \n",
       "\n",
       "               citation_doi citation_issn citation_journal_abbrev  \\\n",
       "0  10.3389/fnins.2019.00151     1662-453X        Front. Neurosci.   \n",
       "1  10.3389/fncir.2019.00010     1662-5110  Front. Neural Circuits   \n",
       "2  10.3389/fnins.2019.00165     1662-453X        Front. Neurosci.   \n",
       "3  10.3389/fnins.2019.00174     1662-453X        Front. Neurosci.   \n",
       "4  10.3389/fnins.2019.00181     1662-453X        Front. Neurosci.   \n",
       "\n",
       "         citation_journal_title  ... citation_publisher  \\\n",
       "0     Frontiers in Neuroscience  ...          Frontiers   \n",
       "1  Frontiers in Neural Circuits  ...          Frontiers   \n",
       "2     Frontiers in Neuroscience  ...          Frontiers   \n",
       "3     Frontiers in Neuroscience  ...          Frontiers   \n",
       "4     Frontiers in Neuroscience  ...          Frontiers   \n",
       "\n",
       "                                      citation_title citation_volume  \\\n",
       "0  HUMAN MUSCLE PROGENITOR CELLS OVEREXPRESSING N...            13.0   \n",
       "1  The Functional Role of Striatal Cholinergic In...            13.0   \n",
       "2  Iron Metabolism of the Skeletal Muscle and Neu...            13.0   \n",
       "3  Brain Map of Intrinsic Functional Flexibility ...            13.0   \n",
       "4  Low CSF melanotransferrin is associated with c...            13.0   \n",
       "\n",
       "                  dc.identifier  \\\n",
       "0                           NaN   \n",
       "1  doi:10.3389/fncir.2019.00010   \n",
       "2                           NaN   \n",
       "3                           NaN   \n",
       "4                           NaN   \n",
       "\n",
       "                                         description  \\\n",
       "0  The peripheral nervous system has an intrinsic...   \n",
       "1  In this study, we explore the functional role ...   \n",
       "2  Recent studies clearly indicate that endocrine...   \n",
       "3  Emerging neuroimaging studies emphasize the dy...   \n",
       "4  The disruption of iron metabolism and iron tra...   \n",
       "\n",
       "                                                 img  \\\n",
       "0  https://www.frontiersin.org/files/MyHome%20Art...   \n",
       "1  https://www.frontiersin.org/files/MyHome%20Art...   \n",
       "2  https://www.frontiersin.org/files/MyHome%20Art...   \n",
       "3  https://www.frontiersin.org/files/MyHome%20Art...   \n",
       "4  https://www.frontiersin.org/files/MyHome%20Art...   \n",
       "\n",
       "                                            keywords  \\\n",
       "0  Human muscle progenitor cells; Neurotrophic fa...   \n",
       "1  Striatum; Basal Ganglia; Reinforcement   Learn...   \n",
       "2  myokine, ; Iron,; ALS, amyotrophic lateral scl...   \n",
       "3  dynamic brain organization; intrinsic function...   \n",
       "4  Alzheimer’s disease; CSF; Iron; MCI; Melanotra...   \n",
       "\n",
       "                                                text  \\\n",
       "0  HUMAN MUSCLE PROGENITOR CELLS OVEREXPRESSING N...   \n",
       "1  In this study, we explore the functional role ...   \n",
       "2  Iron Metabolism of the Skeletal Muscle and Neu...   \n",
       "3  Brain Map of Intrinsic Functional Flexibility ...   \n",
       "4  Low CSF melanotransferrin is associated with c...   \n",
       "\n",
       "                                               title  \\\n",
       "0  HUMAN MUSCLE PROGENITOR CELLS OVEREXPRESSING N...   \n",
       "1  The Functional Role of Striatal Cholinergic In...   \n",
       "2  Iron Metabolism of the Skeletal Muscle and Neu...   \n",
       "3  Brain Map of Intrinsic Functional Flexibility ...   \n",
       "4  Low CSF melanotransferrin is associated with c...   \n",
       "\n",
       "                                                 url  \n",
       "0  https://www.frontiersin.org/articles/10.3389/f...  \n",
       "1  https://www.frontiersin.org/articles/10.3389/f...  \n",
       "2  https://www.frontiersin.org/articles/10.3389/f...  \n",
       "3  https://www.frontiersin.org/articles/10.3389/f...  \n",
       "4  https://www.frontiersin.org/articles/10.3389/f...  \n",
       "\n",
       "[5 rows x 26 columns]"
      ]
     },
     "execution_count": 2,
     "metadata": {},
     "output_type": "execute_result"
    }
   ],
   "source": [
    "neuro_data = \"../data_large/Neuroscience_Data.csv\"\n",
    "neuro_df = pd.read_csv(neuro_data)\n",
    "neuro_df.head()"
   ]
  },
  {
   "cell_type": "code",
   "execution_count": 3,
   "metadata": {},
   "outputs": [
    {
     "data": {
      "text/html": [
       "<div>\n",
       "<style scoped>\n",
       "    .dataframe tbody tr th:only-of-type {\n",
       "        vertical-align: middle;\n",
       "    }\n",
       "\n",
       "    .dataframe tbody tr th {\n",
       "        vertical-align: top;\n",
       "    }\n",
       "\n",
       "    .dataframe thead th {\n",
       "        text-align: right;\n",
       "    }\n",
       "</style>\n",
       "<table border=\"1\" class=\"dataframe\">\n",
       "  <thead>\n",
       "    <tr style=\"text-align: right;\">\n",
       "      <th></th>\n",
       "      <th>Country; Year</th>\n",
       "      <th>Government expenditures on mental hospitals as a percentage of total government expenditures on mental health (%)</th>\n",
       "      <th>Stand-alone law for mental health</th>\n",
       "      <th>Year the law was enacted (latest revision)</th>\n",
       "      <th>Stand-alone policy or plan for mental health</th>\n",
       "      <th>Publication year of the policy or plan (latest revision)</th>\n",
       "    </tr>\n",
       "  </thead>\n",
       "  <tbody>\n",
       "    <tr>\n",
       "      <th>0</th>\n",
       "      <td>Afghanistan; 2016</td>\n",
       "      <td>NaN</td>\n",
       "      <td>Yes</td>\n",
       "      <td>1987</td>\n",
       "      <td>Yes</td>\n",
       "      <td>2016.0</td>\n",
       "    </tr>\n",
       "    <tr>\n",
       "      <th>1</th>\n",
       "      <td>Afghanistan; 2014</td>\n",
       "      <td>NaN</td>\n",
       "      <td>Yes</td>\n",
       "      <td>NaN</td>\n",
       "      <td>Yes</td>\n",
       "      <td>NaN</td>\n",
       "    </tr>\n",
       "    <tr>\n",
       "      <th>2</th>\n",
       "      <td>Albania; 2016</td>\n",
       "      <td>NaN</td>\n",
       "      <td>Yes</td>\n",
       "      <td>2012</td>\n",
       "      <td>Yes</td>\n",
       "      <td>2013.0</td>\n",
       "    </tr>\n",
       "    <tr>\n",
       "      <th>3</th>\n",
       "      <td>Albania; 2014</td>\n",
       "      <td>NaN</td>\n",
       "      <td>Yes</td>\n",
       "      <td>NaN</td>\n",
       "      <td>Yes</td>\n",
       "      <td>NaN</td>\n",
       "    </tr>\n",
       "    <tr>\n",
       "      <th>4</th>\n",
       "      <td>Algeria; 2016</td>\n",
       "      <td>NaN</td>\n",
       "      <td>Yes</td>\n",
       "      <td>1905</td>\n",
       "      <td>No</td>\n",
       "      <td>NaN</td>\n",
       "    </tr>\n",
       "  </tbody>\n",
       "</table>\n",
       "</div>"
      ],
      "text/plain": [
       "       Country; Year  \\\n",
       "0  Afghanistan; 2016   \n",
       "1  Afghanistan; 2014   \n",
       "2      Albania; 2016   \n",
       "3      Albania; 2014   \n",
       "4      Algeria; 2016   \n",
       "\n",
       "   Government expenditures on mental hospitals as a percentage of total government expenditures on mental health (%)  \\\n",
       "0                                                NaN                                                                   \n",
       "1                                                NaN                                                                   \n",
       "2                                                NaN                                                                   \n",
       "3                                                NaN                                                                   \n",
       "4                                                NaN                                                                   \n",
       "\n",
       "  Stand-alone law for mental health  \\\n",
       "0                               Yes   \n",
       "1                               Yes   \n",
       "2                               Yes   \n",
       "3                               Yes   \n",
       "4                               Yes   \n",
       "\n",
       "  Year the law was enacted (latest revision)  \\\n",
       "0                                       1987   \n",
       "1                                        NaN   \n",
       "2                                       2012   \n",
       "3                                        NaN   \n",
       "4                                       1905   \n",
       "\n",
       "  Stand-alone policy or plan for mental health  \\\n",
       "0                                          Yes   \n",
       "1                                          Yes   \n",
       "2                                          Yes   \n",
       "3                                          Yes   \n",
       "4                                           No   \n",
       "\n",
       "   Publication year of the policy or plan (latest revision)  \n",
       "0                                             2016.0         \n",
       "1                                                NaN         \n",
       "2                                             2013.0         \n",
       "3                                                NaN         \n",
       "4                                                NaN         "
      ]
     },
     "execution_count": 3,
     "metadata": {},
     "output_type": "execute_result"
    }
   ],
   "source": [
    "mental_data = \"../data/Mental_Data.csv\"\n",
    "mental_df = pd.read_csv(mental_data)\n",
    "mental_df.head()"
   ]
  },
  {
   "cell_type": "code",
   "execution_count": 41,
   "metadata": {},
   "outputs": [
    {
     "data": {
      "text/html": [
       "<div>\n",
       "<style scoped>\n",
       "    .dataframe tbody tr th:only-of-type {\n",
       "        vertical-align: middle;\n",
       "    }\n",
       "\n",
       "    .dataframe tbody tr th {\n",
       "        vertical-align: top;\n",
       "    }\n",
       "\n",
       "    .dataframe thead th {\n",
       "        text-align: right;\n",
       "    }\n",
       "</style>\n",
       "<table border=\"1\" class=\"dataframe\">\n",
       "  <thead>\n",
       "    <tr style=\"text-align: right;\">\n",
       "      <th></th>\n",
       "      <th>Rank</th>\n",
       "      <th>Sourceid</th>\n",
       "      <th>Title</th>\n",
       "      <th>Type</th>\n",
       "      <th>Issn</th>\n",
       "      <th>SJR</th>\n",
       "      <th>SJR Quartile</th>\n",
       "      <th>H index</th>\n",
       "      <th>Total Docs. (2018)</th>\n",
       "      <th>Total Docs. (3years)</th>\n",
       "      <th>Total Refs.</th>\n",
       "      <th>Total Cites (3years)</th>\n",
       "      <th>Citable Docs. (3years)</th>\n",
       "      <th>Cites / Doc. (2years)</th>\n",
       "      <th>Ref. / Doc.</th>\n",
       "      <th>Country</th>\n",
       "      <th>Publisher</th>\n",
       "      <th>Coverage</th>\n",
       "      <th>Categories</th>\n",
       "    </tr>\n",
       "  </thead>\n",
       "  <tbody>\n",
       "    <tr>\n",
       "      <th>0</th>\n",
       "      <td>1</td>\n",
       "      <td>17437</td>\n",
       "      <td>Nature Reviews Neuroscience</td>\n",
       "      <td>journal</td>\n",
       "      <td>14710048, 1471003X</td>\n",
       "      <td>21,210</td>\n",
       "      <td>Q1</td>\n",
       "      <td>375</td>\n",
       "      <td>136</td>\n",
       "      <td>401</td>\n",
       "      <td>9159</td>\n",
       "      <td>6587</td>\n",
       "      <td>194</td>\n",
       "      <td>32,24</td>\n",
       "      <td>67,35</td>\n",
       "      <td>United Kingdom</td>\n",
       "      <td>Nature Publishing Group</td>\n",
       "      <td>2000-ongoing</td>\n",
       "      <td>Neuroscience (miscellaneous) (Q1)</td>\n",
       "    </tr>\n",
       "    <tr>\n",
       "      <th>1</th>\n",
       "      <td>2</td>\n",
       "      <td>17436</td>\n",
       "      <td>Nature Neuroscience</td>\n",
       "      <td>journal</td>\n",
       "      <td>10976256</td>\n",
       "      <td>15,852</td>\n",
       "      <td>Q1</td>\n",
       "      <td>375</td>\n",
       "      <td>248</td>\n",
       "      <td>815</td>\n",
       "      <td>11676</td>\n",
       "      <td>13577</td>\n",
       "      <td>712</td>\n",
       "      <td>17,81</td>\n",
       "      <td>47,08</td>\n",
       "      <td>United Kingdom</td>\n",
       "      <td>Nature Publishing Group</td>\n",
       "      <td>1998-ongoing</td>\n",
       "      <td>Neuroscience (miscellaneous) (Q1)</td>\n",
       "    </tr>\n",
       "    <tr>\n",
       "      <th>2</th>\n",
       "      <td>3</td>\n",
       "      <td>14181</td>\n",
       "      <td>Annual Review of Neuroscience</td>\n",
       "      <td>book series</td>\n",
       "      <td>0147006X, 15454126</td>\n",
       "      <td>12,626</td>\n",
       "      <td>Q1</td>\n",
       "      <td>224</td>\n",
       "      <td>26</td>\n",
       "      <td>67</td>\n",
       "      <td>3689</td>\n",
       "      <td>1113</td>\n",
       "      <td>67</td>\n",
       "      <td>12,02</td>\n",
       "      <td>141,88</td>\n",
       "      <td>United States</td>\n",
       "      <td>Annual Reviews Inc.</td>\n",
       "      <td>1978-ongoing</td>\n",
       "      <td>Neuroscience (miscellaneous) (Q1)</td>\n",
       "    </tr>\n",
       "    <tr>\n",
       "      <th>3</th>\n",
       "      <td>4</td>\n",
       "      <td>17978</td>\n",
       "      <td>Neuron</td>\n",
       "      <td>journal</td>\n",
       "      <td>08966273</td>\n",
       "      <td>11,377</td>\n",
       "      <td>Q1</td>\n",
       "      <td>430</td>\n",
       "      <td>515</td>\n",
       "      <td>1560</td>\n",
       "      <td>31105</td>\n",
       "      <td>18464</td>\n",
       "      <td>1488</td>\n",
       "      <td>11,18</td>\n",
       "      <td>60,40</td>\n",
       "      <td>United States</td>\n",
       "      <td>Cell Press</td>\n",
       "      <td>1988-ongoing</td>\n",
       "      <td>Neuroscience (miscellaneous) (Q1)</td>\n",
       "    </tr>\n",
       "    <tr>\n",
       "      <th>4</th>\n",
       "      <td>5</td>\n",
       "      <td>17435</td>\n",
       "      <td>EMBO Journal</td>\n",
       "      <td>journal</td>\n",
       "      <td>02614189, 14602075</td>\n",
       "      <td>7,579</td>\n",
       "      <td>Q1</td>\n",
       "      <td>368</td>\n",
       "      <td>259</td>\n",
       "      <td>754</td>\n",
       "      <td>14304</td>\n",
       "      <td>5989</td>\n",
       "      <td>660</td>\n",
       "      <td>9,96</td>\n",
       "      <td>55,23</td>\n",
       "      <td>Germany</td>\n",
       "      <td>Wiley-Blackwell</td>\n",
       "      <td>1982-ongoing</td>\n",
       "      <td>Biochemistry, Genetics and Molecular Biology (...</td>\n",
       "    </tr>\n",
       "  </tbody>\n",
       "</table>\n",
       "</div>"
      ],
      "text/plain": [
       "   Rank  Sourceid                          Title         Type  \\\n",
       "0     1     17437    Nature Reviews Neuroscience      journal   \n",
       "1     2     17436            Nature Neuroscience      journal   \n",
       "2     3     14181  Annual Review of Neuroscience  book series   \n",
       "3     4     17978                         Neuron      journal   \n",
       "4     5     17435                   EMBO Journal      journal   \n",
       "\n",
       "                 Issn     SJR SJR Quartile  H index  Total Docs. (2018)  \\\n",
       "0  14710048, 1471003X  21,210           Q1      375                 136   \n",
       "1            10976256  15,852           Q1      375                 248   \n",
       "2  0147006X, 15454126  12,626           Q1      224                  26   \n",
       "3            08966273  11,377           Q1      430                 515   \n",
       "4  02614189, 14602075   7,579           Q1      368                 259   \n",
       "\n",
       "   Total Docs. (3years)  Total Refs.  Total Cites (3years)  \\\n",
       "0                   401         9159                  6587   \n",
       "1                   815        11676                 13577   \n",
       "2                    67         3689                  1113   \n",
       "3                  1560        31105                 18464   \n",
       "4                   754        14304                  5989   \n",
       "\n",
       "   Citable Docs. (3years) Cites / Doc. (2years) Ref. / Doc.         Country  \\\n",
       "0                     194                 32,24       67,35  United Kingdom   \n",
       "1                     712                 17,81       47,08  United Kingdom   \n",
       "2                      67                 12,02      141,88   United States   \n",
       "3                    1488                 11,18       60,40   United States   \n",
       "4                     660                  9,96       55,23         Germany   \n",
       "\n",
       "                 Publisher      Coverage  \\\n",
       "0  Nature Publishing Group  2000-ongoing   \n",
       "1  Nature Publishing Group  1998-ongoing   \n",
       "2      Annual Reviews Inc.  1978-ongoing   \n",
       "3               Cell Press  1988-ongoing   \n",
       "4          Wiley-Blackwell  1982-ongoing   \n",
       "\n",
       "                                          Categories  \n",
       "0                  Neuroscience (miscellaneous) (Q1)  \n",
       "1                  Neuroscience (miscellaneous) (Q1)  \n",
       "2                  Neuroscience (miscellaneous) (Q1)  \n",
       "3                  Neuroscience (miscellaneous) (Q1)  \n",
       "4  Biochemistry, Genetics and Molecular Biology (...  "
      ]
     },
     "execution_count": 41,
     "metadata": {},
     "output_type": "execute_result"
    }
   ],
   "source": [
    "journal_data = \"../data_large/Journal_Data.csv\"\n",
    "journal_df = pd.read_csv(journal_data, sep=';')\n",
    "journal_df.head()"
   ]
  },
  {
   "cell_type": "markdown",
   "metadata": {
    "heading_collapsed": true
   },
   "source": [
    "## Exploring the Neuroscience Data"
   ]
  },
  {
   "cell_type": "code",
   "execution_count": 6,
   "metadata": {
    "hidden": true
   },
   "outputs": [
    {
     "data": {
      "text/html": [
       "<div>\n",
       "<style scoped>\n",
       "    .dataframe tbody tr th:only-of-type {\n",
       "        vertical-align: middle;\n",
       "    }\n",
       "\n",
       "    .dataframe tbody tr th {\n",
       "        vertical-align: top;\n",
       "    }\n",
       "\n",
       "    .dataframe thead th {\n",
       "        text-align: right;\n",
       "    }\n",
       "</style>\n",
       "<table border=\"1\" class=\"dataframe\">\n",
       "  <thead>\n",
       "    <tr style=\"text-align: right;\">\n",
       "      <th></th>\n",
       "      <th>Unnamed: 0</th>\n",
       "      <th>citation_abstract</th>\n",
       "      <th>citation_author</th>\n",
       "      <th>citation_author_email</th>\n",
       "      <th>citation_author_institution</th>\n",
       "      <th>citation_date</th>\n",
       "      <th>citation_doi</th>\n",
       "      <th>citation_issn</th>\n",
       "      <th>citation_journal_abbrev</th>\n",
       "      <th>citation_journal_title</th>\n",
       "      <th>...</th>\n",
       "      <th>citation_publisher</th>\n",
       "      <th>citation_title</th>\n",
       "      <th>citation_volume</th>\n",
       "      <th>dc.identifier</th>\n",
       "      <th>description</th>\n",
       "      <th>img</th>\n",
       "      <th>keywords</th>\n",
       "      <th>text</th>\n",
       "      <th>title</th>\n",
       "      <th>url</th>\n",
       "    </tr>\n",
       "  </thead>\n",
       "  <tbody>\n",
       "    <tr>\n",
       "      <th>0</th>\n",
       "      <td>0</td>\n",
       "      <td>The peripheral nervous system has an intrinsic...</td>\n",
       "      <td>Offen, Daniel</td>\n",
       "      <td>danioffen@gmail.com</td>\n",
       "      <td>Sackler Faculty of Medicine, Tel Aviv Universi...</td>\n",
       "      <td>2019.0</td>\n",
       "      <td>10.3389/fnins.2019.00151</td>\n",
       "      <td>1662-453X</td>\n",
       "      <td>Front. Neurosci.</td>\n",
       "      <td>Frontiers in Neuroscience</td>\n",
       "      <td>...</td>\n",
       "      <td>Frontiers</td>\n",
       "      <td>HUMAN MUSCLE PROGENITOR CELLS OVEREXPRESSING N...</td>\n",
       "      <td>13.0</td>\n",
       "      <td>NaN</td>\n",
       "      <td>The peripheral nervous system has an intrinsic...</td>\n",
       "      <td>https://www.frontiersin.org/files/MyHome%20Art...</td>\n",
       "      <td>Human muscle progenitor cells; Neurotrophic fa...</td>\n",
       "      <td>HUMAN MUSCLE PROGENITOR CELLS OVEREXPRESSING N...</td>\n",
       "      <td>HUMAN MUSCLE PROGENITOR CELLS OVEREXPRESSING N...</td>\n",
       "      <td>https://www.frontiersin.org/articles/10.3389/f...</td>\n",
       "    </tr>\n",
       "  </tbody>\n",
       "</table>\n",
       "<p>1 rows × 26 columns</p>\n",
       "</div>"
      ],
      "text/plain": [
       "   Unnamed: 0                                  citation_abstract  \\\n",
       "0           0  The peripheral nervous system has an intrinsic...   \n",
       "\n",
       "  citation_author citation_author_email  \\\n",
       "0   Offen, Daniel   danioffen@gmail.com   \n",
       "\n",
       "                         citation_author_institution  citation_date  \\\n",
       "0  Sackler Faculty of Medicine, Tel Aviv Universi...         2019.0   \n",
       "\n",
       "               citation_doi citation_issn citation_journal_abbrev  \\\n",
       "0  10.3389/fnins.2019.00151     1662-453X        Front. Neurosci.   \n",
       "\n",
       "      citation_journal_title  ... citation_publisher  \\\n",
       "0  Frontiers in Neuroscience  ...          Frontiers   \n",
       "\n",
       "                                      citation_title citation_volume  \\\n",
       "0  HUMAN MUSCLE PROGENITOR CELLS OVEREXPRESSING N...            13.0   \n",
       "\n",
       "   dc.identifier                                        description  \\\n",
       "0            NaN  The peripheral nervous system has an intrinsic...   \n",
       "\n",
       "                                                 img  \\\n",
       "0  https://www.frontiersin.org/files/MyHome%20Art...   \n",
       "\n",
       "                                            keywords  \\\n",
       "0  Human muscle progenitor cells; Neurotrophic fa...   \n",
       "\n",
       "                                                text  \\\n",
       "0  HUMAN MUSCLE PROGENITOR CELLS OVEREXPRESSING N...   \n",
       "\n",
       "                                               title  \\\n",
       "0  HUMAN MUSCLE PROGENITOR CELLS OVEREXPRESSING N...   \n",
       "\n",
       "                                                 url  \n",
       "0  https://www.frontiersin.org/articles/10.3389/f...  \n",
       "\n",
       "[1 rows x 26 columns]"
      ]
     },
     "execution_count": 6,
     "metadata": {},
     "output_type": "execute_result"
    }
   ],
   "source": [
    "neuro_df.head(1)"
   ]
  },
  {
   "cell_type": "code",
   "execution_count": 7,
   "metadata": {
    "hidden": true,
    "scrolled": true
   },
   "outputs": [
    {
     "data": {
      "text/plain": [
       "Index(['Unnamed: 0', 'citation_abstract', 'citation_author',\n",
       "       'citation_author_email', 'citation_author_institution', 'citation_date',\n",
       "       'citation_doi', 'citation_issn', 'citation_journal_abbrev',\n",
       "       'citation_journal_title', 'citation_keywords', 'citation_language',\n",
       "       'citation_online_date', 'citation_pages', 'citation_pdf_url',\n",
       "       'citation_publication_date', 'citation_publisher', 'citation_title',\n",
       "       'citation_volume', 'dc.identifier', 'description', 'img', 'keywords',\n",
       "       'text', 'title', 'url'],\n",
       "      dtype='object')"
      ]
     },
     "execution_count": 7,
     "metadata": {},
     "output_type": "execute_result"
    }
   ],
   "source": [
    "neuro_df.columns"
   ]
  },
  {
   "cell_type": "code",
   "execution_count": 8,
   "metadata": {
    "hidden": true
   },
   "outputs": [
    {
     "data": {
      "text/plain": [
       "Frontiers in Human Neuroscience            5330\n",
       "Frontiers in Neuroscience                  4252\n",
       "Frontiers in Cellular Neuroscience         2719\n",
       "Frontiers in Computational Neuroscience    1120\n",
       "Frontiers in Neural Circuits                966\n",
       "Frontiers in Neuroanatomy                   953\n",
       "Frontiers in Neuroinformatics               500\n",
       "Frontiers in Neurorobotics                  277\n",
       "Frontiers in Neuroengineering               117\n",
       "Frontiers in Neuroenergetics                 63\n",
       "Frontiers in Artificial Intelligence          1\n",
       "Name: citation_journal_title, dtype: int64"
      ]
     },
     "execution_count": 8,
     "metadata": {},
     "output_type": "execute_result"
    }
   ],
   "source": [
    "neuro_df[\"citation_journal_title\"].value_counts()"
   ]
  },
  {
   "cell_type": "code",
   "execution_count": 9,
   "metadata": {
    "hidden": true
   },
   "outputs": [
    {
     "data": {
      "text/plain": [
       "2018.0    2530\n",
       "2014.0    2512\n",
       "2017.0    2349\n",
       "2015.0    2241\n",
       "2016.0    2106\n",
       "2013.0    2052\n",
       "2012.0     955\n",
       "2019.0     600\n",
       "2011.0     562\n",
       "2010.0     391\n",
       "Name: citation_date, dtype: int64"
      ]
     },
     "execution_count": 9,
     "metadata": {},
     "output_type": "execute_result"
    }
   ],
   "source": [
    "neuro_df[\"citation_date\"].value_counts()"
   ]
  },
  {
   "cell_type": "code",
   "execution_count": 10,
   "metadata": {
    "hidden": true,
    "scrolled": true
   },
   "outputs": [
    {
     "data": {
      "text/plain": [
       "Center for Collaboration and Innovation in Brain and Learning Sciences, Beijing Normal University, Beijing, China               14\n",
       "Institute of Neuroinformatics, University of Zurich and ETH Zurich, Zurich, Switzerland                                         10\n",
       "University College London, London, United Kingdom                                                                               10\n",
       "Center for Behavioral Brain Sciences, Magdeburg, Germany                                                                         8\n",
       "Institute for Human Movement and Medical Sciences, Niigata University of Health and Welfare, Niigata, Japan                      8\n",
       "Department of Cognitive Neuroscience, Faculty of Psychology and Neuroscience, Maastricht University, Maastricht, Netherlands     7\n",
       "Neuroscience Research Australia, Sydney, NSW, Australia                                                                          7\n",
       "Institució Catalana de Recerca i Estudis Avançats, Barcelona, Spain                                                              7\n",
       "University College London, Wellcome Trust Centre for Neuroimaging, 12 Queen Square, London, WC1N 3BG, United Kingdom             6\n",
       "Faculty of Psychology, Institute of Cognitive Neuroscience, Ruhr-University Bochum, Bochum, Germany                              6\n",
       "Name: citation_author_institution, dtype: int64"
      ]
     },
     "execution_count": 10,
     "metadata": {},
     "output_type": "execute_result"
    }
   ],
   "source": [
    "neuro_df[\"citation_author_institution\"].value_counts().head(10)"
   ]
  },
  {
   "cell_type": "markdown",
   "metadata": {
    "heading_collapsed": true
   },
   "source": [
    "## Exploring the Mental Health Policy Data"
   ]
  },
  {
   "cell_type": "code",
   "execution_count": 11,
   "metadata": {
    "hidden": true
   },
   "outputs": [
    {
     "data": {
      "text/html": [
       "<div>\n",
       "<style scoped>\n",
       "    .dataframe tbody tr th:only-of-type {\n",
       "        vertical-align: middle;\n",
       "    }\n",
       "\n",
       "    .dataframe tbody tr th {\n",
       "        vertical-align: top;\n",
       "    }\n",
       "\n",
       "    .dataframe thead th {\n",
       "        text-align: right;\n",
       "    }\n",
       "</style>\n",
       "<table border=\"1\" class=\"dataframe\">\n",
       "  <thead>\n",
       "    <tr style=\"text-align: right;\">\n",
       "      <th></th>\n",
       "      <th>Country; Year</th>\n",
       "      <th>Government expenditures on mental hospitals as a percentage of total government expenditures on mental health (%)</th>\n",
       "      <th>Stand-alone law for mental health</th>\n",
       "      <th>Year the law was enacted (latest revision)</th>\n",
       "      <th>Stand-alone policy or plan for mental health</th>\n",
       "      <th>Publication year of the policy or plan (latest revision)</th>\n",
       "    </tr>\n",
       "  </thead>\n",
       "  <tbody>\n",
       "    <tr>\n",
       "      <th>0</th>\n",
       "      <td>Afghanistan; 2016</td>\n",
       "      <td>NaN</td>\n",
       "      <td>Yes</td>\n",
       "      <td>1987</td>\n",
       "      <td>Yes</td>\n",
       "      <td>2016.0</td>\n",
       "    </tr>\n",
       "  </tbody>\n",
       "</table>\n",
       "</div>"
      ],
      "text/plain": [
       "       Country; Year  \\\n",
       "0  Afghanistan; 2016   \n",
       "\n",
       "   Government expenditures on mental hospitals as a percentage of total government expenditures on mental health (%)  \\\n",
       "0                                                NaN                                                                   \n",
       "\n",
       "  Stand-alone law for mental health  \\\n",
       "0                               Yes   \n",
       "\n",
       "  Year the law was enacted (latest revision)  \\\n",
       "0                                       1987   \n",
       "\n",
       "  Stand-alone policy or plan for mental health  \\\n",
       "0                                          Yes   \n",
       "\n",
       "   Publication year of the policy or plan (latest revision)  \n",
       "0                                             2016.0         "
      ]
     },
     "execution_count": 11,
     "metadata": {},
     "output_type": "execute_result"
    }
   ],
   "source": [
    "mental_df.head(1)"
   ]
  },
  {
   "cell_type": "code",
   "execution_count": 15,
   "metadata": {
    "hidden": true
   },
   "outputs": [
    {
     "data": {
      "text/plain": [
       "count    78.000000\n",
       "mean      3.717949\n",
       "std       3.608854\n",
       "min       0.000000\n",
       "25%       1.100000\n",
       "50%       2.700000\n",
       "75%       5.525000\n",
       "max      19.500000\n",
       "Name: Government expenditures on mental hospitals as a percentage of total government expenditures on mental health (%), dtype: float64"
      ]
     },
     "execution_count": 15,
     "metadata": {},
     "output_type": "execute_result"
    }
   ],
   "source": [
    "mental_df[\"Government expenditures on mental hospitals\" +\n",
    "          \" as a percentage of total government expenditures on mental health (%)\"].describe()"
   ]
  },
  {
   "cell_type": "code",
   "execution_count": 12,
   "metadata": {
    "hidden": true
   },
   "outputs": [
    {
     "data": {
      "text/plain": [
       "Yes      208\n",
       "No       126\n",
       "Yes        2\n",
       "yes        1\n",
       "No No      1\n",
       "2018       1\n",
       "No         1\n",
       "Name: Stand-alone law for mental health, dtype: int64"
      ]
     },
     "execution_count": 12,
     "metadata": {},
     "output_type": "execute_result"
    }
   ],
   "source": [
    "mental_df[\"Stand-alone law for mental health\"].value_counts()"
   ]
  },
  {
   "cell_type": "code",
   "execution_count": 13,
   "metadata": {
    "hidden": true
   },
   "outputs": [
    {
     "data": {
      "text/plain": [
       "2016    11\n",
       "2017     9\n",
       "2013     8\n",
       "2001     6\n",
       "2015     5\n",
       "2011     5\n",
       "2010     4\n",
       "2009     4\n",
       "2008     4\n",
       "2014     4\n",
       "Name: Year the law was enacted (latest revision), dtype: int64"
      ]
     },
     "execution_count": 13,
     "metadata": {},
     "output_type": "execute_result"
    }
   ],
   "source": [
    "mental_df[\"Year the law was enacted (latest revision)\"].value_counts().head(10)"
   ]
  },
  {
   "cell_type": "code",
   "execution_count": 15,
   "metadata": {
    "hidden": true,
    "scrolled": true
   },
   "outputs": [
    {
     "data": {
      "text/plain": [
       "2016.0    30\n",
       "2013.0    16\n",
       "2015.0    16\n",
       "2014.0    15\n",
       "2012.0    13\n",
       "2017.0    13\n",
       "2011.0    10\n",
       "2008.0     3\n",
       "2004.0     3\n",
       "2009.0     3\n",
       "Name: Publication year of the policy or plan (latest revision), dtype: int64"
      ]
     },
     "execution_count": 15,
     "metadata": {},
     "output_type": "execute_result"
    }
   ],
   "source": [
    "mental_df[\"Publication year of the policy or plan (latest revision)\"].value_counts().head(10)"
   ]
  },
  {
   "cell_type": "code",
   "execution_count": 16,
   "metadata": {
    "hidden": true
   },
   "outputs": [
    {
     "data": {
      "text/plain": [
       "Yes        268\n",
       "No          73\n",
       "YES          1\n",
       "Yes Yes      1\n",
       "Name: Stand-alone policy or plan for mental health, dtype: int64"
      ]
     },
     "execution_count": 16,
     "metadata": {},
     "output_type": "execute_result"
    }
   ],
   "source": [
    "mental_df[\"Stand-alone policy or plan for mental health\"].value_counts()"
   ]
  },
  {
   "cell_type": "code",
   "execution_count": 17,
   "metadata": {
    "hidden": true
   },
   "outputs": [
    {
     "data": {
      "text/plain": [
       "2016.0    30\n",
       "2013.0    16\n",
       "2015.0    16\n",
       "2014.0    15\n",
       "2012.0    13\n",
       "2017.0    13\n",
       "2011.0    10\n",
       "2008.0     3\n",
       "2004.0     3\n",
       "2009.0     3\n",
       "Name: Publication year of the policy or plan (latest revision), dtype: int64"
      ]
     },
     "execution_count": 17,
     "metadata": {},
     "output_type": "execute_result"
    }
   ],
   "source": [
    "mental_df[\"Publication year of the policy or plan (latest revision)\"].value_counts().head(10)\n"
   ]
  },
  {
   "cell_type": "markdown",
   "metadata": {},
   "source": [
    "## Exploring the Journal Data"
   ]
  },
  {
   "cell_type": "code",
   "execution_count": 19,
   "metadata": {},
   "outputs": [
    {
     "data": {
      "text/html": [
       "<div>\n",
       "<style scoped>\n",
       "    .dataframe tbody tr th:only-of-type {\n",
       "        vertical-align: middle;\n",
       "    }\n",
       "\n",
       "    .dataframe tbody tr th {\n",
       "        vertical-align: top;\n",
       "    }\n",
       "\n",
       "    .dataframe thead th {\n",
       "        text-align: right;\n",
       "    }\n",
       "</style>\n",
       "<table border=\"1\" class=\"dataframe\">\n",
       "  <thead>\n",
       "    <tr style=\"text-align: right;\">\n",
       "      <th></th>\n",
       "      <th>Rank</th>\n",
       "      <th>Sourceid</th>\n",
       "      <th>Title</th>\n",
       "      <th>Type</th>\n",
       "      <th>Issn</th>\n",
       "      <th>SJR</th>\n",
       "      <th>SJR Quartile</th>\n",
       "      <th>H index</th>\n",
       "      <th>Total Docs. (2018)</th>\n",
       "      <th>Total Docs. (3years)</th>\n",
       "      <th>Total Refs.</th>\n",
       "      <th>Total Cites (3years)</th>\n",
       "      <th>Citable Docs. (3years)</th>\n",
       "      <th>Cites / Doc. (2years)</th>\n",
       "      <th>Ref. / Doc.</th>\n",
       "      <th>Country</th>\n",
       "      <th>Publisher</th>\n",
       "      <th>Coverage</th>\n",
       "      <th>Categories</th>\n",
       "    </tr>\n",
       "  </thead>\n",
       "  <tbody>\n",
       "    <tr>\n",
       "      <th>0</th>\n",
       "      <td>1</td>\n",
       "      <td>17437</td>\n",
       "      <td>Nature Reviews Neuroscience</td>\n",
       "      <td>journal</td>\n",
       "      <td>14710048, 1471003X</td>\n",
       "      <td>21,210</td>\n",
       "      <td>Q1</td>\n",
       "      <td>375</td>\n",
       "      <td>136</td>\n",
       "      <td>401</td>\n",
       "      <td>9159</td>\n",
       "      <td>6587</td>\n",
       "      <td>194</td>\n",
       "      <td>32,24</td>\n",
       "      <td>67,35</td>\n",
       "      <td>United Kingdom</td>\n",
       "      <td>Nature Publishing Group</td>\n",
       "      <td>2000-ongoing</td>\n",
       "      <td>Neuroscience (miscellaneous) (Q1)</td>\n",
       "    </tr>\n",
       "  </tbody>\n",
       "</table>\n",
       "</div>"
      ],
      "text/plain": [
       "   Rank  Sourceid                        Title     Type                Issn  \\\n",
       "0     1     17437  Nature Reviews Neuroscience  journal  14710048, 1471003X   \n",
       "\n",
       "      SJR SJR Quartile  H index  Total Docs. (2018)  Total Docs. (3years)  \\\n",
       "0  21,210           Q1      375                 136                   401   \n",
       "\n",
       "   Total Refs.  Total Cites (3years)  Citable Docs. (3years)  \\\n",
       "0         9159                  6587                     194   \n",
       "\n",
       "  Cites / Doc. (2years) Ref. / Doc.         Country                Publisher  \\\n",
       "0                 32,24       67,35  United Kingdom  Nature Publishing Group   \n",
       "\n",
       "       Coverage                         Categories  \n",
       "0  2000-ongoing  Neuroscience (miscellaneous) (Q1)  "
      ]
     },
     "execution_count": 19,
     "metadata": {},
     "output_type": "execute_result"
    }
   ],
   "source": [
    "journal_df.head(1)"
   ]
  },
  {
   "cell_type": "code",
   "execution_count": 20,
   "metadata": {},
   "outputs": [
    {
     "data": {
      "text/plain": [
       "Index(['Rank', 'Sourceid', 'Title', 'Type', 'Issn', 'SJR', 'SJR Quartile',\n",
       "       'H index', 'Total Docs. (2018)', 'Total Docs. (3years)', 'Total Refs.',\n",
       "       'Total Cites (3years)', 'Citable Docs. (3years)',\n",
       "       'Cites / Doc. (2years)', 'Ref. / Doc.', 'Country', 'Publisher',\n",
       "       'Coverage', 'Categories'],\n",
       "      dtype='object')"
      ]
     },
     "execution_count": 20,
     "metadata": {},
     "output_type": "execute_result"
    }
   ],
   "source": [
    "journal_df.columns"
   ]
  },
  {
   "cell_type": "code",
   "execution_count": 62,
   "metadata": {},
   "outputs": [
    {
     "data": {
      "text/plain": [
       "['Frontiers in Neuroscience',\n",
       " 'Frontiers in Neural Circuits',\n",
       " 'Frontiers in Human Neuroscience',\n",
       " 'Frontiers in Neuroanatomy',\n",
       " 'Frontiers in Cellular Neuroscience',\n",
       " 'Frontiers in Neuroinformatics',\n",
       " 'Frontiers in Neurorobotics',\n",
       " 'Frontiers in Computational Neuroscience',\n",
       " 'Frontiers in Neuroengineering',\n",
       " 'Frontiers in Neuroenergetics',\n",
       " 'Frontiers in Artificial Intelligence',\n",
       " nan]"
      ]
     },
     "execution_count": 62,
     "metadata": {},
     "output_type": "execute_result"
    }
   ],
   "source": [
    "relevant_journals = list(neuro_df[\"citation_journal_title\"].unique())\n",
    "relevant_journals"
   ]
  },
  {
   "cell_type": "code",
   "execution_count": 63,
   "metadata": {},
   "outputs": [
    {
     "name": "stdout",
     "output_type": "stream",
     "text": [
      "Frontiers in Neural Circuits\n",
      "Frontiers in Neuroinformatics\n",
      "Frontiers in Neuroanatomy\n",
      "Frontiers in Neuroscience\n",
      "Frontiers in Computational Neuroscience\n",
      "Frontiers in Neuroengineering\n"
     ]
    }
   ],
   "source": [
    "for journal in journal_df['title']:\n",
    "    if journal in relevant_journals:\n",
    "        print(journal)"
   ]
  },
  {
   "cell_type": "code",
   "execution_count": 59,
   "metadata": {},
   "outputs": [
    {
     "data": {
      "text/plain": [
       "count     149.000000\n",
       "mean      449.912752\n",
       "std       687.963288\n",
       "min         1.000000\n",
       "25%        88.000000\n",
       "50%       238.000000\n",
       "75%       469.000000\n",
       "max      3751.000000\n",
       "Name: Total Docs. (3years), dtype: float64"
      ]
     },
     "execution_count": 59,
     "metadata": {},
     "output_type": "execute_result"
    }
   ],
   "source": [
    "journal_df[\"Total Docs. (3years)\"].describe()"
   ]
  },
  {
   "cell_type": "code",
   "execution_count": 64,
   "metadata": {},
   "outputs": [
    {
     "data": {
      "text/plain": [
       "count       149.000000\n",
       "mean       8836.510067\n",
       "std       15328.293367\n",
       "min           0.000000\n",
       "25%         885.000000\n",
       "50%        3689.000000\n",
       "75%        9848.000000\n",
       "max      110729.000000\n",
       "Name: Total Refs., dtype: float64"
      ]
     },
     "execution_count": 64,
     "metadata": {},
     "output_type": "execute_result"
    }
   ],
   "source": [
    "journal_df[\"Total Refs.\"].describe()"
   ]
  },
  {
   "cell_type": "code",
   "execution_count": 66,
   "metadata": {},
   "outputs": [
    {
     "data": {
      "text/plain": [
       "United States           45\n",
       "United Kingdom          30\n",
       "Netherlands             23\n",
       "Germany                 11\n",
       "Switzerland              9\n",
       "India                    5\n",
       "Brazil                   3\n",
       "United Arab Emirates     3\n",
       "New Zealand              2\n",
       "Greece                   2\n",
       "Egypt                    2\n",
       "Russian Federation       2\n",
       "Slovakia                 1\n",
       "South Korea              1\n",
       "Czech Republic           1\n",
       "Hungary                  1\n",
       "Italy                    1\n",
       "Spain                    1\n",
       "China                    1\n",
       "Turkey                   1\n",
       "Name: Country, dtype: int64"
      ]
     },
     "execution_count": 66,
     "metadata": {},
     "output_type": "execute_result"
    }
   ],
   "source": [
    "journal_df[\"Country\"].value_counts().head(20)"
   ]
  },
  {
   "cell_type": "markdown",
   "metadata": {
    "heading_collapsed": true
   },
   "source": [
    "## Choosing the Columns of interest"
   ]
  },
  {
   "cell_type": "markdown",
   "metadata": {
    "heading_collapsed": true,
    "hidden": true
   },
   "source": [
    "### neuro"
   ]
  },
  {
   "cell_type": "code",
   "execution_count": 16,
   "metadata": {
    "hidden": true
   },
   "outputs": [
    {
     "data": {
      "text/plain": [
       "Index(['Unnamed: 0', 'citation_abstract', 'citation_author',\n",
       "       'citation_author_email', 'citation_author_institution', 'citation_date',\n",
       "       'citation_doi', 'citation_issn', 'citation_journal_abbrev',\n",
       "       'citation_journal_title', 'citation_keywords', 'citation_language',\n",
       "       'citation_online_date', 'citation_pages', 'citation_pdf_url',\n",
       "       'citation_publication_date', 'citation_publisher', 'citation_title',\n",
       "       'citation_volume', 'dc.identifier', 'description', 'img', 'keywords',\n",
       "       'text', 'title', 'url'],\n",
       "      dtype='object')"
      ]
     },
     "execution_count": 16,
     "metadata": {},
     "output_type": "execute_result"
    }
   ],
   "source": [
    "neuro_df.columns"
   ]
  },
  {
   "cell_type": "code",
   "execution_count": 24,
   "metadata": {
    "hidden": true
   },
   "outputs": [
    {
     "data": {
      "text/html": [
       "<div>\n",
       "<style scoped>\n",
       "    .dataframe tbody tr th:only-of-type {\n",
       "        vertical-align: middle;\n",
       "    }\n",
       "\n",
       "    .dataframe tbody tr th {\n",
       "        vertical-align: top;\n",
       "    }\n",
       "\n",
       "    .dataframe thead th {\n",
       "        text-align: right;\n",
       "    }\n",
       "</style>\n",
       "<table border=\"1\" class=\"dataframe\">\n",
       "  <thead>\n",
       "    <tr style=\"text-align: right;\">\n",
       "      <th></th>\n",
       "      <th>title</th>\n",
       "      <th>citation_author</th>\n",
       "      <th>citation_date</th>\n",
       "      <th>citation_journal_title</th>\n",
       "      <th>description</th>\n",
       "      <th>keywords</th>\n",
       "    </tr>\n",
       "  </thead>\n",
       "  <tbody>\n",
       "    <tr>\n",
       "      <th>0</th>\n",
       "      <td>HUMAN MUSCLE PROGENITOR CELLS OVEREXPRESSING N...</td>\n",
       "      <td>Offen, Daniel</td>\n",
       "      <td>2019.0</td>\n",
       "      <td>Frontiers in Neuroscience</td>\n",
       "      <td>The peripheral nervous system has an intrinsic...</td>\n",
       "      <td>Human muscle progenitor cells; Neurotrophic fa...</td>\n",
       "    </tr>\n",
       "    <tr>\n",
       "      <th>1</th>\n",
       "      <td>The Functional Role of Striatal Cholinergic In...</td>\n",
       "      <td>Molkov, Yaroslav I.</td>\n",
       "      <td>2019.0</td>\n",
       "      <td>Frontiers in Neural Circuits</td>\n",
       "      <td>In this study, we explore the functional role ...</td>\n",
       "      <td>Striatum; Basal Ganglia; Reinforcement   Learn...</td>\n",
       "    </tr>\n",
       "    <tr>\n",
       "      <th>2</th>\n",
       "      <td>Iron Metabolism of the Skeletal Muscle and Neu...</td>\n",
       "      <td>Herman-Antosiewicz, Anna</td>\n",
       "      <td>2019.0</td>\n",
       "      <td>Frontiers in Neuroscience</td>\n",
       "      <td>Recent studies clearly indicate that endocrine...</td>\n",
       "      <td>myokine, ; Iron,; ALS, amyotrophic lateral scl...</td>\n",
       "    </tr>\n",
       "    <tr>\n",
       "      <th>3</th>\n",
       "      <td>Brain Map of Intrinsic Functional Flexibility ...</td>\n",
       "      <td>Wang, Zheng</td>\n",
       "      <td>2019.0</td>\n",
       "      <td>Frontiers in Neuroscience</td>\n",
       "      <td>Emerging neuroimaging studies emphasize the dy...</td>\n",
       "      <td>dynamic brain organization; intrinsic function...</td>\n",
       "    </tr>\n",
       "    <tr>\n",
       "      <th>4</th>\n",
       "      <td>Low CSF melanotransferrin is associated with c...</td>\n",
       "      <td>So, Po-Wah</td>\n",
       "      <td>2019.0</td>\n",
       "      <td>Frontiers in Neuroscience</td>\n",
       "      <td>The disruption of iron metabolism and iron tra...</td>\n",
       "      <td>Alzheimer’s disease; CSF; Iron; MCI; Melanotra...</td>\n",
       "    </tr>\n",
       "  </tbody>\n",
       "</table>\n",
       "</div>"
      ],
      "text/plain": [
       "                                               title  \\\n",
       "0  HUMAN MUSCLE PROGENITOR CELLS OVEREXPRESSING N...   \n",
       "1  The Functional Role of Striatal Cholinergic In...   \n",
       "2  Iron Metabolism of the Skeletal Muscle and Neu...   \n",
       "3  Brain Map of Intrinsic Functional Flexibility ...   \n",
       "4  Low CSF melanotransferrin is associated with c...   \n",
       "\n",
       "            citation_author  citation_date        citation_journal_title  \\\n",
       "0             Offen, Daniel         2019.0     Frontiers in Neuroscience   \n",
       "1       Molkov, Yaroslav I.         2019.0  Frontiers in Neural Circuits   \n",
       "2  Herman-Antosiewicz, Anna         2019.0     Frontiers in Neuroscience   \n",
       "3               Wang, Zheng         2019.0     Frontiers in Neuroscience   \n",
       "4                So, Po-Wah         2019.0     Frontiers in Neuroscience   \n",
       "\n",
       "                                         description  \\\n",
       "0  The peripheral nervous system has an intrinsic...   \n",
       "1  In this study, we explore the functional role ...   \n",
       "2  Recent studies clearly indicate that endocrine...   \n",
       "3  Emerging neuroimaging studies emphasize the dy...   \n",
       "4  The disruption of iron metabolism and iron tra...   \n",
       "\n",
       "                                            keywords  \n",
       "0  Human muscle progenitor cells; Neurotrophic fa...  \n",
       "1  Striatum; Basal Ganglia; Reinforcement   Learn...  \n",
       "2  myokine, ; Iron,; ALS, amyotrophic lateral scl...  \n",
       "3  dynamic brain organization; intrinsic function...  \n",
       "4  Alzheimer’s disease; CSF; Iron; MCI; Melanotra...  "
      ]
     },
     "execution_count": 24,
     "metadata": {},
     "output_type": "execute_result"
    }
   ],
   "source": [
    "neuro_df = neuro_df[[\"title\",\"citation_author\",\"citation_date\",\\\n",
    "                             \"citation_journal_title\",\"description\",\"keywords\",]]\n",
    "neuro_df.head()"
   ]
  },
  {
   "cell_type": "markdown",
   "metadata": {
    "heading_collapsed": true,
    "hidden": true
   },
   "source": [
    "### mental"
   ]
  },
  {
   "cell_type": "code",
   "execution_count": 20,
   "metadata": {
    "hidden": true
   },
   "outputs": [
    {
     "data": {
      "text/html": [
       "<div>\n",
       "<style scoped>\n",
       "    .dataframe tbody tr th:only-of-type {\n",
       "        vertical-align: middle;\n",
       "    }\n",
       "\n",
       "    .dataframe tbody tr th {\n",
       "        vertical-align: top;\n",
       "    }\n",
       "\n",
       "    .dataframe thead th {\n",
       "        text-align: right;\n",
       "    }\n",
       "</style>\n",
       "<table border=\"1\" class=\"dataframe\">\n",
       "  <thead>\n",
       "    <tr style=\"text-align: right;\">\n",
       "      <th></th>\n",
       "      <th>Country; Year</th>\n",
       "      <th>Government expenditures on mental hospitals as a percentage of total government expenditures on mental health (%)</th>\n",
       "      <th>Stand-alone law for mental health</th>\n",
       "      <th>Year the law was enacted (latest revision)</th>\n",
       "      <th>Stand-alone policy or plan for mental health</th>\n",
       "      <th>Publication year of the policy or plan (latest revision)</th>\n",
       "    </tr>\n",
       "  </thead>\n",
       "  <tbody>\n",
       "    <tr>\n",
       "      <th>0</th>\n",
       "      <td>Afghanistan; 2016</td>\n",
       "      <td>NaN</td>\n",
       "      <td>Yes</td>\n",
       "      <td>1987</td>\n",
       "      <td>Yes</td>\n",
       "      <td>2016.0</td>\n",
       "    </tr>\n",
       "    <tr>\n",
       "      <th>1</th>\n",
       "      <td>Afghanistan; 2014</td>\n",
       "      <td>NaN</td>\n",
       "      <td>Yes</td>\n",
       "      <td>NaN</td>\n",
       "      <td>Yes</td>\n",
       "      <td>NaN</td>\n",
       "    </tr>\n",
       "    <tr>\n",
       "      <th>2</th>\n",
       "      <td>Albania; 2016</td>\n",
       "      <td>NaN</td>\n",
       "      <td>Yes</td>\n",
       "      <td>2012</td>\n",
       "      <td>Yes</td>\n",
       "      <td>2013.0</td>\n",
       "    </tr>\n",
       "    <tr>\n",
       "      <th>3</th>\n",
       "      <td>Albania; 2014</td>\n",
       "      <td>NaN</td>\n",
       "      <td>Yes</td>\n",
       "      <td>NaN</td>\n",
       "      <td>Yes</td>\n",
       "      <td>NaN</td>\n",
       "    </tr>\n",
       "    <tr>\n",
       "      <th>4</th>\n",
       "      <td>Algeria; 2016</td>\n",
       "      <td>NaN</td>\n",
       "      <td>Yes</td>\n",
       "      <td>1905</td>\n",
       "      <td>No</td>\n",
       "      <td>NaN</td>\n",
       "    </tr>\n",
       "  </tbody>\n",
       "</table>\n",
       "</div>"
      ],
      "text/plain": [
       "       Country; Year  \\\n",
       "0  Afghanistan; 2016   \n",
       "1  Afghanistan; 2014   \n",
       "2      Albania; 2016   \n",
       "3      Albania; 2014   \n",
       "4      Algeria; 2016   \n",
       "\n",
       "   Government expenditures on mental hospitals as a percentage of total government expenditures on mental health (%)  \\\n",
       "0                                                NaN                                                                   \n",
       "1                                                NaN                                                                   \n",
       "2                                                NaN                                                                   \n",
       "3                                                NaN                                                                   \n",
       "4                                                NaN                                                                   \n",
       "\n",
       "  Stand-alone law for mental health  \\\n",
       "0                               Yes   \n",
       "1                               Yes   \n",
       "2                               Yes   \n",
       "3                               Yes   \n",
       "4                               Yes   \n",
       "\n",
       "  Year the law was enacted (latest revision)  \\\n",
       "0                                       1987   \n",
       "1                                        NaN   \n",
       "2                                       2012   \n",
       "3                                        NaN   \n",
       "4                                       1905   \n",
       "\n",
       "  Stand-alone policy or plan for mental health  \\\n",
       "0                                          Yes   \n",
       "1                                          Yes   \n",
       "2                                          Yes   \n",
       "3                                          Yes   \n",
       "4                                           No   \n",
       "\n",
       "   Publication year of the policy or plan (latest revision)  \n",
       "0                                             2016.0         \n",
       "1                                                NaN         \n",
       "2                                             2013.0         \n",
       "3                                                NaN         \n",
       "4                                                NaN         "
      ]
     },
     "execution_count": 20,
     "metadata": {},
     "output_type": "execute_result"
    }
   ],
   "source": [
    "mental_df.head()"
   ]
  },
  {
   "cell_type": "markdown",
   "metadata": {
    "heading_collapsed": true,
    "hidden": true
   },
   "source": [
    "### journal"
   ]
  },
  {
   "cell_type": "code",
   "execution_count": 25,
   "metadata": {
    "hidden": true
   },
   "outputs": [
    {
     "data": {
      "text/html": [
       "<div>\n",
       "<style scoped>\n",
       "    .dataframe tbody tr th:only-of-type {\n",
       "        vertical-align: middle;\n",
       "    }\n",
       "\n",
       "    .dataframe tbody tr th {\n",
       "        vertical-align: top;\n",
       "    }\n",
       "\n",
       "    .dataframe thead th {\n",
       "        text-align: right;\n",
       "    }\n",
       "</style>\n",
       "<table border=\"1\" class=\"dataframe\">\n",
       "  <thead>\n",
       "    <tr style=\"text-align: right;\">\n",
       "      <th></th>\n",
       "      <th>Title</th>\n",
       "      <th>Rank</th>\n",
       "      <th>Total Docs. (3years)</th>\n",
       "      <th>Total Refs.</th>\n",
       "      <th>Citable Docs. (3years)</th>\n",
       "      <th>Country</th>\n",
       "    </tr>\n",
       "  </thead>\n",
       "  <tbody>\n",
       "    <tr>\n",
       "      <th>0</th>\n",
       "      <td>Nature Reviews Neuroscience</td>\n",
       "      <td>1</td>\n",
       "      <td>401</td>\n",
       "      <td>9159</td>\n",
       "      <td>194</td>\n",
       "      <td>United Kingdom</td>\n",
       "    </tr>\n",
       "    <tr>\n",
       "      <th>1</th>\n",
       "      <td>Nature Neuroscience</td>\n",
       "      <td>2</td>\n",
       "      <td>815</td>\n",
       "      <td>11676</td>\n",
       "      <td>712</td>\n",
       "      <td>United Kingdom</td>\n",
       "    </tr>\n",
       "    <tr>\n",
       "      <th>2</th>\n",
       "      <td>Annual Review of Neuroscience</td>\n",
       "      <td>3</td>\n",
       "      <td>67</td>\n",
       "      <td>3689</td>\n",
       "      <td>67</td>\n",
       "      <td>United States</td>\n",
       "    </tr>\n",
       "    <tr>\n",
       "      <th>3</th>\n",
       "      <td>Neuron</td>\n",
       "      <td>4</td>\n",
       "      <td>1560</td>\n",
       "      <td>31105</td>\n",
       "      <td>1488</td>\n",
       "      <td>United States</td>\n",
       "    </tr>\n",
       "    <tr>\n",
       "      <th>4</th>\n",
       "      <td>EMBO Journal</td>\n",
       "      <td>5</td>\n",
       "      <td>754</td>\n",
       "      <td>14304</td>\n",
       "      <td>660</td>\n",
       "      <td>Germany</td>\n",
       "    </tr>\n",
       "  </tbody>\n",
       "</table>\n",
       "</div>"
      ],
      "text/plain": [
       "                           Title  Rank  Total Docs. (3years)  Total Refs.  \\\n",
       "0    Nature Reviews Neuroscience     1                   401         9159   \n",
       "1            Nature Neuroscience     2                   815        11676   \n",
       "2  Annual Review of Neuroscience     3                    67         3689   \n",
       "3                         Neuron     4                  1560        31105   \n",
       "4                   EMBO Journal     5                   754        14304   \n",
       "\n",
       "   Citable Docs. (3years)         Country  \n",
       "0                     194  United Kingdom  \n",
       "1                     712  United Kingdom  \n",
       "2                      67   United States  \n",
       "3                    1488   United States  \n",
       "4                     660         Germany  "
      ]
     },
     "execution_count": 25,
     "metadata": {},
     "output_type": "execute_result"
    }
   ],
   "source": [
    "journal_df.head()"
   ]
  },
  {
   "cell_type": "code",
   "execution_count": 26,
   "metadata": {
    "hidden": true,
    "scrolled": true
   },
   "outputs": [
    {
     "data": {
      "text/plain": [
       "Index(['Title', 'Rank', 'Total Docs. (3years)', 'Total Refs.',\n",
       "       'Citable Docs. (3years)', 'Country'],\n",
       "      dtype='object')"
      ]
     },
     "execution_count": 26,
     "metadata": {},
     "output_type": "execute_result"
    }
   ],
   "source": [
    "journal_df.columns"
   ]
  },
  {
   "cell_type": "code",
   "execution_count": 47,
   "metadata": {
    "hidden": true
   },
   "outputs": [
    {
     "data": {
      "text/html": [
       "<div>\n",
       "<style scoped>\n",
       "    .dataframe tbody tr th:only-of-type {\n",
       "        vertical-align: middle;\n",
       "    }\n",
       "\n",
       "    .dataframe tbody tr th {\n",
       "        vertical-align: top;\n",
       "    }\n",
       "\n",
       "    .dataframe thead th {\n",
       "        text-align: right;\n",
       "    }\n",
       "</style>\n",
       "<table border=\"1\" class=\"dataframe\">\n",
       "  <thead>\n",
       "    <tr style=\"text-align: right;\">\n",
       "      <th></th>\n",
       "      <th>title</th>\n",
       "      <th>Rank</th>\n",
       "      <th>Total Docs. (3years)</th>\n",
       "      <th>Total Refs.</th>\n",
       "      <th>Citable Docs. (3years)</th>\n",
       "      <th>Country</th>\n",
       "    </tr>\n",
       "  </thead>\n",
       "  <tbody>\n",
       "    <tr>\n",
       "      <th>0</th>\n",
       "      <td>Nature Reviews Neuroscience</td>\n",
       "      <td>1</td>\n",
       "      <td>401</td>\n",
       "      <td>9159</td>\n",
       "      <td>194</td>\n",
       "      <td>United Kingdom</td>\n",
       "    </tr>\n",
       "    <tr>\n",
       "      <th>1</th>\n",
       "      <td>Nature Neuroscience</td>\n",
       "      <td>2</td>\n",
       "      <td>815</td>\n",
       "      <td>11676</td>\n",
       "      <td>712</td>\n",
       "      <td>United Kingdom</td>\n",
       "    </tr>\n",
       "    <tr>\n",
       "      <th>2</th>\n",
       "      <td>Annual Review of Neuroscience</td>\n",
       "      <td>3</td>\n",
       "      <td>67</td>\n",
       "      <td>3689</td>\n",
       "      <td>67</td>\n",
       "      <td>United States</td>\n",
       "    </tr>\n",
       "    <tr>\n",
       "      <th>3</th>\n",
       "      <td>Neuron</td>\n",
       "      <td>4</td>\n",
       "      <td>1560</td>\n",
       "      <td>31105</td>\n",
       "      <td>1488</td>\n",
       "      <td>United States</td>\n",
       "    </tr>\n",
       "    <tr>\n",
       "      <th>4</th>\n",
       "      <td>EMBO Journal</td>\n",
       "      <td>5</td>\n",
       "      <td>754</td>\n",
       "      <td>14304</td>\n",
       "      <td>660</td>\n",
       "      <td>Germany</td>\n",
       "    </tr>\n",
       "  </tbody>\n",
       "</table>\n",
       "</div>"
      ],
      "text/plain": [
       "                           title  Rank  Total Docs. (3years)  Total Refs.  \\\n",
       "0    Nature Reviews Neuroscience     1                   401         9159   \n",
       "1            Nature Neuroscience     2                   815        11676   \n",
       "2  Annual Review of Neuroscience     3                    67         3689   \n",
       "3                         Neuron     4                  1560        31105   \n",
       "4                   EMBO Journal     5                   754        14304   \n",
       "\n",
       "   Citable Docs. (3years)         Country  \n",
       "0                     194  United Kingdom  \n",
       "1                     712  United Kingdom  \n",
       "2                      67   United States  \n",
       "3                    1488   United States  \n",
       "4                     660         Germany  "
      ]
     },
     "execution_count": 47,
     "metadata": {},
     "output_type": "execute_result"
    }
   ],
   "source": [
    "journal_df = journal_df[[\"Title\",\"Rank\",\"Total Docs. (3years)\",\\\n",
    "                             \"Total Refs.\",\"Citable Docs. (3years)\",\"Country\"]]\n",
    "journal_df.rename(columns = {\"Title\":\"title\"}, inplace = True)\n",
    "journal_df.head()"
   ]
  },
  {
   "cell_type": "markdown",
   "metadata": {
    "heading_collapsed": true,
    "hidden": true
   },
   "source": [
    "### merge idea"
   ]
  },
  {
   "cell_type": "code",
   "execution_count": 77,
   "metadata": {
    "hidden": true
   },
   "outputs": [
    {
     "data": {
      "text/html": [
       "<div>\n",
       "<style scoped>\n",
       "    .dataframe tbody tr th:only-of-type {\n",
       "        vertical-align: middle;\n",
       "    }\n",
       "\n",
       "    .dataframe tbody tr th {\n",
       "        vertical-align: top;\n",
       "    }\n",
       "\n",
       "    .dataframe thead th {\n",
       "        text-align: right;\n",
       "    }\n",
       "</style>\n",
       "<table border=\"1\" class=\"dataframe\">\n",
       "  <thead>\n",
       "    <tr style=\"text-align: right;\">\n",
       "      <th></th>\n",
       "      <th>title</th>\n",
       "      <th>citation_author</th>\n",
       "      <th>citation_date</th>\n",
       "      <th>citation_journal_title</th>\n",
       "      <th>description</th>\n",
       "      <th>keywords</th>\n",
       "      <th>Rank</th>\n",
       "      <th>Total Docs. (3years)</th>\n",
       "      <th>Total Refs.</th>\n",
       "      <th>Citable Docs. (3years)</th>\n",
       "      <th>Country</th>\n",
       "    </tr>\n",
       "  </thead>\n",
       "  <tbody>\n",
       "    <tr>\n",
       "      <th>40</th>\n",
       "      <td>Frontiers in Neural Circuits</td>\n",
       "      <td>Mitterauer, Bernhard J</td>\n",
       "      <td>2013.0</td>\n",
       "      <td>Frontiers in Neural Circuits</td>\n",
       "      <td>Abstract We examine the interactions and inter...</td>\n",
       "      <td>Key words: neuroglia; Extracellular Fluid; Neu...</td>\n",
       "      <td>26</td>\n",
       "      <td>319</td>\n",
       "      <td>8921</td>\n",
       "      <td>308</td>\n",
       "      <td>Switzerland</td>\n",
       "    </tr>\n",
       "    <tr>\n",
       "      <th>34</th>\n",
       "      <td>Frontiers in Neuroinformatics</td>\n",
       "      <td>Poline, Jean-Baptiste</td>\n",
       "      <td>2012.0</td>\n",
       "      <td>Frontiers in Neuroinformatics</td>\n",
       "      <td>As neuroimaging databases grow in size and com...</td>\n",
       "      <td>database; Neuroimaging; neuroinformatics; pyth...</td>\n",
       "      <td>27</td>\n",
       "      <td>158</td>\n",
       "      <td>5376</td>\n",
       "      <td>149</td>\n",
       "      <td>Switzerland</td>\n",
       "    </tr>\n",
       "    <tr>\n",
       "      <th>23</th>\n",
       "      <td>Frontiers in Neuroanatomy</td>\n",
       "      <td>Rockland, Kathleen S</td>\n",
       "      <td>2010.0</td>\n",
       "      <td>Frontiers in Neuroanatomy</td>\n",
       "      <td>Abstract &amp;ldquo;Column,&amp;rdquo; like &amp;ldquo;gen...</td>\n",
       "      <td>distributed; divergence; honeycomb; ocular dom...</td>\n",
       "      <td>30</td>\n",
       "      <td>424</td>\n",
       "      <td>9434</td>\n",
       "      <td>397</td>\n",
       "      <td>Switzerland</td>\n",
       "    </tr>\n",
       "    <tr>\n",
       "      <th>29</th>\n",
       "      <td>Frontiers in Neuroscience</td>\n",
       "      <td>Seo, Hyojung</td>\n",
       "      <td>2010.0</td>\n",
       "      <td>Frontiers in Neuroscience</td>\n",
       "      <td>Ambivalent Dopamine</td>\n",
       "      <td>Ambivalent; Dopamine</td>\n",
       "      <td>33</td>\n",
       "      <td>1884</td>\n",
       "      <td>59190</td>\n",
       "      <td>1766</td>\n",
       "      <td>Switzerland</td>\n",
       "    </tr>\n",
       "    <tr>\n",
       "      <th>0</th>\n",
       "      <td>Frontiers in Computational Neuroscience</td>\n",
       "      <td>Josic, Kresimir</td>\n",
       "      <td>2010.0</td>\n",
       "      <td>Frontiers in Computational Neuroscience</td>\n",
       "      <td>Correlations between spike trains can strongly...</td>\n",
       "      <td>Correlation; feedforward networks; pooling; sy...</td>\n",
       "      <td>64</td>\n",
       "      <td>413</td>\n",
       "      <td>7186</td>\n",
       "      <td>395</td>\n",
       "      <td>Switzerland</td>\n",
       "    </tr>\n",
       "    <tr>\n",
       "      <th>33</th>\n",
       "      <td>Frontiers in Neuroengineering</td>\n",
       "      <td>Marom, Shimon</td>\n",
       "      <td>2011.0</td>\n",
       "      <td>Frontiers in Neuroengineering</td>\n",
       "      <td>Responses of individual neurons to ongoing inp...</td>\n",
       "      <td>Clamp; closed-loop; Firing-rate; Neuron; thres...</td>\n",
       "      <td>98</td>\n",
       "      <td>5</td>\n",
       "      <td>0</td>\n",
       "      <td>4</td>\n",
       "      <td>Switzerland</td>\n",
       "    </tr>\n",
       "  </tbody>\n",
       "</table>\n",
       "</div>"
      ],
      "text/plain": [
       "                                      title         citation_author  \\\n",
       "40             Frontiers in Neural Circuits  Mitterauer, Bernhard J   \n",
       "34            Frontiers in Neuroinformatics   Poline, Jean-Baptiste   \n",
       "23                Frontiers in Neuroanatomy    Rockland, Kathleen S   \n",
       "29                Frontiers in Neuroscience            Seo, Hyojung   \n",
       "0   Frontiers in Computational Neuroscience         Josic, Kresimir   \n",
       "33            Frontiers in Neuroengineering           Marom, Shimon   \n",
       "\n",
       "    citation_date                   citation_journal_title  \\\n",
       "40         2013.0             Frontiers in Neural Circuits   \n",
       "34         2012.0            Frontiers in Neuroinformatics   \n",
       "23         2010.0                Frontiers in Neuroanatomy   \n",
       "29         2010.0                Frontiers in Neuroscience   \n",
       "0          2010.0  Frontiers in Computational Neuroscience   \n",
       "33         2011.0            Frontiers in Neuroengineering   \n",
       "\n",
       "                                          description  \\\n",
       "40  Abstract We examine the interactions and inter...   \n",
       "34  As neuroimaging databases grow in size and com...   \n",
       "23  Abstract &ldquo;Column,&rdquo; like &ldquo;gen...   \n",
       "29                                Ambivalent Dopamine   \n",
       "0   Correlations between spike trains can strongly...   \n",
       "33  Responses of individual neurons to ongoing inp...   \n",
       "\n",
       "                                             keywords  Rank  \\\n",
       "40  Key words: neuroglia; Extracellular Fluid; Neu...    26   \n",
       "34  database; Neuroimaging; neuroinformatics; pyth...    27   \n",
       "23  distributed; divergence; honeycomb; ocular dom...    30   \n",
       "29                               Ambivalent; Dopamine    33   \n",
       "0   Correlation; feedforward networks; pooling; sy...    64   \n",
       "33  Clamp; closed-loop; Firing-rate; Neuron; thres...    98   \n",
       "\n",
       "    Total Docs. (3years)  Total Refs.  Citable Docs. (3years)      Country  \n",
       "40                   319         8921                     308  Switzerland  \n",
       "34                   158         5376                     149  Switzerland  \n",
       "23                   424         9434                     397  Switzerland  \n",
       "29                  1884        59190                    1766  Switzerland  \n",
       "0                    413         7186                     395  Switzerland  \n",
       "33                     5            0                       4  Switzerland  "
      ]
     },
     "execution_count": 77,
     "metadata": {},
     "output_type": "execute_result"
    }
   ],
   "source": [
    "neuro_journal_merge = pd.merge(neuro_df, journal_df, how = \"inner\", on = \"title\")\n",
    "neuro_journal_merge.groupby([\"title\"]).head(1).sort_values([\"Rank\"])"
   ]
  },
  {
   "cell_type": "markdown",
   "metadata": {},
   "source": [
    "## Data Cleaning"
   ]
  },
  {
   "cell_type": "code",
   "execution_count": 23,
   "metadata": {},
   "outputs": [
    {
     "data": {
      "text/plain": [
       "Yes      208\n",
       "No       126\n",
       "Yes        2\n",
       "yes        1\n",
       "No No      1\n",
       "2018       1\n",
       "No         1\n",
       "Name: Stand-alone law for mental health, dtype: int64"
      ]
     },
     "execution_count": 23,
     "metadata": {},
     "output_type": "execute_result"
    }
   ],
   "source": [
    "mental_df[\"Stand-alone law for mental health\"].value_counts()"
   ]
  },
  {
   "cell_type": "code",
   "execution_count": 80,
   "metadata": {},
   "outputs": [
    {
     "ename": "TypeError",
     "evalue": "cannot compare a dtyped [object] array with a scalar of type [bool]",
     "output_type": "error",
     "traceback": [
      "\u001b[0;31m---------------------------------------------------------------------------\u001b[0m",
      "\u001b[0;31mTypeError\u001b[0m                                 Traceback (most recent call last)",
      "\u001b[0;32m~/anaconda3/lib/python3.7/site-packages/pandas/core/ops.py\u001b[0m in \u001b[0;36mna_op\u001b[0;34m(x, y)\u001b[0m\n\u001b[1;32m   1788\u001b[0m         \u001b[0;32mtry\u001b[0m\u001b[0;34m:\u001b[0m\u001b[0;34m\u001b[0m\u001b[0;34m\u001b[0m\u001b[0m\n\u001b[0;32m-> 1789\u001b[0;31m             \u001b[0mresult\u001b[0m \u001b[0;34m=\u001b[0m \u001b[0mop\u001b[0m\u001b[0;34m(\u001b[0m\u001b[0mx\u001b[0m\u001b[0;34m,\u001b[0m \u001b[0my\u001b[0m\u001b[0;34m)\u001b[0m\u001b[0;34m\u001b[0m\u001b[0;34m\u001b[0m\u001b[0m\n\u001b[0m\u001b[1;32m   1790\u001b[0m         \u001b[0;32mexcept\u001b[0m \u001b[0mTypeError\u001b[0m\u001b[0;34m:\u001b[0m\u001b[0;34m\u001b[0m\u001b[0;34m\u001b[0m\u001b[0m\n",
      "\u001b[0;32m~/anaconda3/lib/python3.7/site-packages/pandas/core/ops.py\u001b[0m in \u001b[0;36mror_\u001b[0;34m(left, right)\u001b[0m\n\u001b[1;32m    190\u001b[0m \u001b[0;32mdef\u001b[0m \u001b[0mror_\u001b[0m\u001b[0;34m(\u001b[0m\u001b[0mleft\u001b[0m\u001b[0;34m,\u001b[0m \u001b[0mright\u001b[0m\u001b[0;34m)\u001b[0m\u001b[0;34m:\u001b[0m\u001b[0;34m\u001b[0m\u001b[0;34m\u001b[0m\u001b[0m\n\u001b[0;32m--> 191\u001b[0;31m     \u001b[0;32mreturn\u001b[0m \u001b[0moperator\u001b[0m\u001b[0;34m.\u001b[0m\u001b[0mor_\u001b[0m\u001b[0;34m(\u001b[0m\u001b[0mright\u001b[0m\u001b[0;34m,\u001b[0m \u001b[0mleft\u001b[0m\u001b[0;34m)\u001b[0m\u001b[0;34m\u001b[0m\u001b[0;34m\u001b[0m\u001b[0m\n\u001b[0m\u001b[1;32m    192\u001b[0m \u001b[0;34m\u001b[0m\u001b[0m\n",
      "\u001b[0;31mTypeError\u001b[0m: unsupported operand type(s) for |: 'str' and 'str'",
      "\nDuring handling of the above exception, another exception occurred:\n",
      "\u001b[0;31mTypeError\u001b[0m                                 Traceback (most recent call last)",
      "\u001b[0;32m~/anaconda3/lib/python3.7/site-packages/pandas/core/ops.py\u001b[0m in \u001b[0;36mna_op\u001b[0;34m(x, y)\u001b[0m\n\u001b[1;32m   1803\u001b[0m                 \u001b[0;32mtry\u001b[0m\u001b[0;34m:\u001b[0m\u001b[0;34m\u001b[0m\u001b[0;34m\u001b[0m\u001b[0m\n\u001b[0;32m-> 1804\u001b[0;31m                     \u001b[0mresult\u001b[0m \u001b[0;34m=\u001b[0m \u001b[0mlibops\u001b[0m\u001b[0;34m.\u001b[0m\u001b[0mscalar_binop\u001b[0m\u001b[0;34m(\u001b[0m\u001b[0mx\u001b[0m\u001b[0;34m,\u001b[0m \u001b[0my\u001b[0m\u001b[0;34m,\u001b[0m \u001b[0mop\u001b[0m\u001b[0;34m)\u001b[0m\u001b[0;34m\u001b[0m\u001b[0;34m\u001b[0m\u001b[0m\n\u001b[0m\u001b[1;32m   1805\u001b[0m                 except (TypeError, ValueError, AttributeError,\n",
      "\u001b[0;32mpandas/_libs/ops.pyx\u001b[0m in \u001b[0;36mpandas._libs.ops.scalar_binop\u001b[0;34m()\u001b[0m\n",
      "\u001b[0;32m~/anaconda3/lib/python3.7/site-packages/pandas/core/ops.py\u001b[0m in \u001b[0;36mror_\u001b[0;34m(left, right)\u001b[0m\n\u001b[1;32m    190\u001b[0m \u001b[0;32mdef\u001b[0m \u001b[0mror_\u001b[0m\u001b[0;34m(\u001b[0m\u001b[0mleft\u001b[0m\u001b[0;34m,\u001b[0m \u001b[0mright\u001b[0m\u001b[0;34m)\u001b[0m\u001b[0;34m:\u001b[0m\u001b[0;34m\u001b[0m\u001b[0;34m\u001b[0m\u001b[0m\n\u001b[0;32m--> 191\u001b[0;31m     \u001b[0;32mreturn\u001b[0m \u001b[0moperator\u001b[0m\u001b[0;34m.\u001b[0m\u001b[0mor_\u001b[0m\u001b[0;34m(\u001b[0m\u001b[0mright\u001b[0m\u001b[0;34m,\u001b[0m \u001b[0mleft\u001b[0m\u001b[0;34m)\u001b[0m\u001b[0;34m\u001b[0m\u001b[0;34m\u001b[0m\u001b[0m\n\u001b[0m\u001b[1;32m    192\u001b[0m \u001b[0;34m\u001b[0m\u001b[0m\n",
      "\u001b[0;31mTypeError\u001b[0m: unsupported operand type(s) for |: 'bool' and 'str'",
      "\nDuring handling of the above exception, another exception occurred:\n",
      "\u001b[0;31mTypeError\u001b[0m                                 Traceback (most recent call last)",
      "\u001b[0;32m<ipython-input-80-a9c784762bec>\u001b[0m in \u001b[0;36m<module>\u001b[0;34m\u001b[0m\n\u001b[1;32m      1\u001b[0m mental_df.loc[mental_df[\"Stand-alone law for mental health\"] != \"Yes\" |\\\n\u001b[0;32m----> 2\u001b[0;31m              mental_df[\"Stand-alone law for mental health\"] != \"No\" ]\n\u001b[0m",
      "\u001b[0;32m~/anaconda3/lib/python3.7/site-packages/pandas/core/ops.py\u001b[0m in \u001b[0;36mwrapper\u001b[0;34m(self, other)\u001b[0m\n\u001b[1;32m   1848\u001b[0m         filler = (fill_int if is_self_int_dtype and is_other_int_dtype\n\u001b[1;32m   1849\u001b[0m                   else fill_bool)\n\u001b[0;32m-> 1850\u001b[0;31m         \u001b[0mres_values\u001b[0m \u001b[0;34m=\u001b[0m \u001b[0mna_op\u001b[0m\u001b[0;34m(\u001b[0m\u001b[0mself\u001b[0m\u001b[0;34m.\u001b[0m\u001b[0mvalues\u001b[0m\u001b[0;34m,\u001b[0m \u001b[0movalues\u001b[0m\u001b[0;34m)\u001b[0m\u001b[0;34m\u001b[0m\u001b[0;34m\u001b[0m\u001b[0m\n\u001b[0m\u001b[1;32m   1851\u001b[0m         unfilled = self._constructor(res_values,\n\u001b[1;32m   1852\u001b[0m                                      index=self.index, name=res_name)\n",
      "\u001b[0;32m~/anaconda3/lib/python3.7/site-packages/pandas/core/ops.py\u001b[0m in \u001b[0;36mna_op\u001b[0;34m(x, y)\u001b[0m\n\u001b[1;32m   1808\u001b[0m                                     \u001b[0;34m\"with a scalar of type [{typ}]\"\u001b[0m\u001b[0;34m\u001b[0m\u001b[0;34m\u001b[0m\u001b[0m\n\u001b[1;32m   1809\u001b[0m                                     .format(dtype=x.dtype,\n\u001b[0;32m-> 1810\u001b[0;31m                                             typ=type(y).__name__))\n\u001b[0m\u001b[1;32m   1811\u001b[0m \u001b[0;34m\u001b[0m\u001b[0m\n\u001b[1;32m   1812\u001b[0m         \u001b[0;32mreturn\u001b[0m \u001b[0mresult\u001b[0m\u001b[0;34m\u001b[0m\u001b[0;34m\u001b[0m\u001b[0m\n",
      "\u001b[0;31mTypeError\u001b[0m: cannot compare a dtyped [object] array with a scalar of type [bool]"
     ]
    }
   ],
   "source": [
    "mental_df.loc[mental_df[\"Stand-alone law for mental health\"] != \"Yes\" |\\\n",
    "             mental_df[\"Stand-alone law for mental health\"] != \"No\" ]"
   ]
  },
  {
   "cell_type": "code",
   "execution_count": null,
   "metadata": {},
   "outputs": [],
   "source": []
  },
  {
   "cell_type": "code",
   "execution_count": null,
   "metadata": {},
   "outputs": [],
   "source": []
  },
  {
   "cell_type": "code",
   "execution_count": 25,
   "metadata": {},
   "outputs": [
    {
     "data": {
      "text/plain": [
       "Yes        268\n",
       "No          73\n",
       "YES          1\n",
       "Yes Yes      1\n",
       "Name: Stand-alone policy or plan for mental health, dtype: int64"
      ]
     },
     "execution_count": 25,
     "metadata": {},
     "output_type": "execute_result"
    }
   ],
   "source": [
    "mental_df[\"Stand-alone policy or plan for mental health\"].value_counts()"
   ]
  },
  {
   "cell_type": "code",
   "execution_count": 26,
   "metadata": {},
   "outputs": [
    {
     "ename": "TypeError",
     "evalue": "cannot compare a dtyped [object] array with a scalar of type [bool]",
     "output_type": "error",
     "traceback": [
      "\u001b[1;31m---------------------------------------------------------------------------\u001b[0m",
      "\u001b[1;31mTypeError\u001b[0m                                 Traceback (most recent call last)",
      "\u001b[1;32m~\\Anaconda3\\lib\\site-packages\\pandas\\core\\ops.py\u001b[0m in \u001b[0;36mna_op\u001b[1;34m(x, y)\u001b[0m\n\u001b[0;32m   1788\u001b[0m         \u001b[1;32mtry\u001b[0m\u001b[1;33m:\u001b[0m\u001b[1;33m\u001b[0m\u001b[1;33m\u001b[0m\u001b[0m\n\u001b[1;32m-> 1789\u001b[1;33m             \u001b[0mresult\u001b[0m \u001b[1;33m=\u001b[0m \u001b[0mop\u001b[0m\u001b[1;33m(\u001b[0m\u001b[0mx\u001b[0m\u001b[1;33m,\u001b[0m \u001b[0my\u001b[0m\u001b[1;33m)\u001b[0m\u001b[1;33m\u001b[0m\u001b[1;33m\u001b[0m\u001b[0m\n\u001b[0m\u001b[0;32m   1790\u001b[0m         \u001b[1;32mexcept\u001b[0m \u001b[0mTypeError\u001b[0m\u001b[1;33m:\u001b[0m\u001b[1;33m\u001b[0m\u001b[1;33m\u001b[0m\u001b[0m\n",
      "\u001b[1;32m~\\Anaconda3\\lib\\site-packages\\pandas\\core\\ops.py\u001b[0m in \u001b[0;36mror_\u001b[1;34m(left, right)\u001b[0m\n\u001b[0;32m    190\u001b[0m \u001b[1;32mdef\u001b[0m \u001b[0mror_\u001b[0m\u001b[1;33m(\u001b[0m\u001b[0mleft\u001b[0m\u001b[1;33m,\u001b[0m \u001b[0mright\u001b[0m\u001b[1;33m)\u001b[0m\u001b[1;33m:\u001b[0m\u001b[1;33m\u001b[0m\u001b[1;33m\u001b[0m\u001b[0m\n\u001b[1;32m--> 191\u001b[1;33m     \u001b[1;32mreturn\u001b[0m \u001b[0moperator\u001b[0m\u001b[1;33m.\u001b[0m\u001b[0mor_\u001b[0m\u001b[1;33m(\u001b[0m\u001b[0mright\u001b[0m\u001b[1;33m,\u001b[0m \u001b[0mleft\u001b[0m\u001b[1;33m)\u001b[0m\u001b[1;33m\u001b[0m\u001b[1;33m\u001b[0m\u001b[0m\n\u001b[0m\u001b[0;32m    192\u001b[0m \u001b[1;33m\u001b[0m\u001b[0m\n",
      "\u001b[1;31mTypeError\u001b[0m: unsupported operand type(s) for |: 'str' and 'str'",
      "\nDuring handling of the above exception, another exception occurred:\n",
      "\u001b[1;31mTypeError\u001b[0m                                 Traceback (most recent call last)",
      "\u001b[1;32m~\\Anaconda3\\lib\\site-packages\\pandas\\core\\ops.py\u001b[0m in \u001b[0;36mna_op\u001b[1;34m(x, y)\u001b[0m\n\u001b[0;32m   1803\u001b[0m                 \u001b[1;32mtry\u001b[0m\u001b[1;33m:\u001b[0m\u001b[1;33m\u001b[0m\u001b[1;33m\u001b[0m\u001b[0m\n\u001b[1;32m-> 1804\u001b[1;33m                     \u001b[0mresult\u001b[0m \u001b[1;33m=\u001b[0m \u001b[0mlibops\u001b[0m\u001b[1;33m.\u001b[0m\u001b[0mscalar_binop\u001b[0m\u001b[1;33m(\u001b[0m\u001b[0mx\u001b[0m\u001b[1;33m,\u001b[0m \u001b[0my\u001b[0m\u001b[1;33m,\u001b[0m \u001b[0mop\u001b[0m\u001b[1;33m)\u001b[0m\u001b[1;33m\u001b[0m\u001b[1;33m\u001b[0m\u001b[0m\n\u001b[0m\u001b[0;32m   1805\u001b[0m                 except (TypeError, ValueError, AttributeError,\n",
      "\u001b[1;32mpandas/_libs/ops.pyx\u001b[0m in \u001b[0;36mpandas._libs.ops.scalar_binop\u001b[1;34m()\u001b[0m\n",
      "\u001b[1;32m~\\Anaconda3\\lib\\site-packages\\pandas\\core\\ops.py\u001b[0m in \u001b[0;36mror_\u001b[1;34m(left, right)\u001b[0m\n\u001b[0;32m    190\u001b[0m \u001b[1;32mdef\u001b[0m \u001b[0mror_\u001b[0m\u001b[1;33m(\u001b[0m\u001b[0mleft\u001b[0m\u001b[1;33m,\u001b[0m \u001b[0mright\u001b[0m\u001b[1;33m)\u001b[0m\u001b[1;33m:\u001b[0m\u001b[1;33m\u001b[0m\u001b[1;33m\u001b[0m\u001b[0m\n\u001b[1;32m--> 191\u001b[1;33m     \u001b[1;32mreturn\u001b[0m \u001b[0moperator\u001b[0m\u001b[1;33m.\u001b[0m\u001b[0mor_\u001b[0m\u001b[1;33m(\u001b[0m\u001b[0mright\u001b[0m\u001b[1;33m,\u001b[0m \u001b[0mleft\u001b[0m\u001b[1;33m)\u001b[0m\u001b[1;33m\u001b[0m\u001b[1;33m\u001b[0m\u001b[0m\n\u001b[0m\u001b[0;32m    192\u001b[0m \u001b[1;33m\u001b[0m\u001b[0m\n",
      "\u001b[1;31mTypeError\u001b[0m: unsupported operand type(s) for |: 'bool' and 'str'",
      "\nDuring handling of the above exception, another exception occurred:\n",
      "\u001b[1;31mTypeError\u001b[0m                                 Traceback (most recent call last)",
      "\u001b[1;32m<ipython-input-26-44f7463f2963>\u001b[0m in \u001b[0;36m<module>\u001b[1;34m\u001b[0m\n\u001b[0;32m      1\u001b[0m mental_df.loc[mental_df[\"Stand-alone policy or plan for mental health\"] != \"Yes\" | \\\n\u001b[1;32m----> 2\u001b[1;33m               mental_df[\"Stand-alone policy or plan for mental health\"] != \"No\"]\n\u001b[0m",
      "\u001b[1;32m~\\Anaconda3\\lib\\site-packages\\pandas\\core\\ops.py\u001b[0m in \u001b[0;36mwrapper\u001b[1;34m(self, other)\u001b[0m\n\u001b[0;32m   1848\u001b[0m         filler = (fill_int if is_self_int_dtype and is_other_int_dtype\n\u001b[0;32m   1849\u001b[0m                   else fill_bool)\n\u001b[1;32m-> 1850\u001b[1;33m         \u001b[0mres_values\u001b[0m \u001b[1;33m=\u001b[0m \u001b[0mna_op\u001b[0m\u001b[1;33m(\u001b[0m\u001b[0mself\u001b[0m\u001b[1;33m.\u001b[0m\u001b[0mvalues\u001b[0m\u001b[1;33m,\u001b[0m \u001b[0movalues\u001b[0m\u001b[1;33m)\u001b[0m\u001b[1;33m\u001b[0m\u001b[1;33m\u001b[0m\u001b[0m\n\u001b[0m\u001b[0;32m   1851\u001b[0m         unfilled = self._constructor(res_values,\n\u001b[0;32m   1852\u001b[0m                                      index=self.index, name=res_name)\n",
      "\u001b[1;32m~\\Anaconda3\\lib\\site-packages\\pandas\\core\\ops.py\u001b[0m in \u001b[0;36mna_op\u001b[1;34m(x, y)\u001b[0m\n\u001b[0;32m   1808\u001b[0m                                     \u001b[1;34m\"with a scalar of type [{typ}]\"\u001b[0m\u001b[1;33m\u001b[0m\u001b[1;33m\u001b[0m\u001b[0m\n\u001b[0;32m   1809\u001b[0m                                     .format(dtype=x.dtype,\n\u001b[1;32m-> 1810\u001b[1;33m                                             typ=type(y).__name__))\n\u001b[0m\u001b[0;32m   1811\u001b[0m \u001b[1;33m\u001b[0m\u001b[0m\n\u001b[0;32m   1812\u001b[0m         \u001b[1;32mreturn\u001b[0m \u001b[0mresult\u001b[0m\u001b[1;33m\u001b[0m\u001b[1;33m\u001b[0m\u001b[0m\n",
      "\u001b[1;31mTypeError\u001b[0m: cannot compare a dtyped [object] array with a scalar of type [bool]"
     ]
    }
   ],
   "source": [
    "mental_df.loc[mental_df[\"Stand-alone policy or plan for mental health\"] != \"Yes\" | \\\n",
    "              mental_df[\"Stand-alone policy or plan for mental health\"] != \"No\"]"
   ]
  },
  {
   "cell_type": "code",
   "execution_count": null,
   "metadata": {},
   "outputs": [],
   "source": []
  },
  {
   "cell_type": "code",
   "execution_count": 27,
   "metadata": {
    "scrolled": true
   },
   "outputs": [
    {
     "data": {
      "text/plain": [
       "Index(['title', 'citation_author', 'citation_date', 'citation_journal_title',\n",
       "       'description', 'keywords'],\n",
       "      dtype='object')"
      ]
     },
     "execution_count": 27,
     "metadata": {},
     "output_type": "execute_result"
    }
   ],
   "source": [
    "neuro_df.columns"
   ]
  },
  {
   "cell_type": "code",
   "execution_count": 28,
   "metadata": {},
   "outputs": [
    {
     "data": {
      "text/html": [
       "<div>\n",
       "<style scoped>\n",
       "    .dataframe tbody tr th:only-of-type {\n",
       "        vertical-align: middle;\n",
       "    }\n",
       "\n",
       "    .dataframe tbody tr th {\n",
       "        vertical-align: top;\n",
       "    }\n",
       "\n",
       "    .dataframe thead th {\n",
       "        text-align: right;\n",
       "    }\n",
       "</style>\n",
       "<table border=\"1\" class=\"dataframe\">\n",
       "  <thead>\n",
       "    <tr style=\"text-align: right;\">\n",
       "      <th></th>\n",
       "      <th>title</th>\n",
       "      <th>citation_author</th>\n",
       "      <th>citation_date</th>\n",
       "      <th>citation_journal_title</th>\n",
       "      <th>description</th>\n",
       "      <th>keywords</th>\n",
       "    </tr>\n",
       "  </thead>\n",
       "  <tbody>\n",
       "    <tr>\n",
       "      <th>0</th>\n",
       "      <td>HUMAN MUSCLE PROGENITOR CELLS OVEREXPRESSING N...</td>\n",
       "      <td>Offen, Daniel</td>\n",
       "      <td>2019.0</td>\n",
       "      <td>Frontiers in Neuroscience</td>\n",
       "      <td>The peripheral nervous system has an intrinsic...</td>\n",
       "      <td>Human muscle progenitor cells; Neurotrophic fa...</td>\n",
       "    </tr>\n",
       "    <tr>\n",
       "      <th>1</th>\n",
       "      <td>The Functional Role of Striatal Cholinergic In...</td>\n",
       "      <td>Molkov, Yaroslav I.</td>\n",
       "      <td>2019.0</td>\n",
       "      <td>Frontiers in Neural Circuits</td>\n",
       "      <td>In this study, we explore the functional role ...</td>\n",
       "      <td>Striatum; Basal Ganglia; Reinforcement   Learn...</td>\n",
       "    </tr>\n",
       "    <tr>\n",
       "      <th>2</th>\n",
       "      <td>Iron Metabolism of the Skeletal Muscle and Neu...</td>\n",
       "      <td>Herman-Antosiewicz, Anna</td>\n",
       "      <td>2019.0</td>\n",
       "      <td>Frontiers in Neuroscience</td>\n",
       "      <td>Recent studies clearly indicate that endocrine...</td>\n",
       "      <td>myokine, ; Iron,; ALS, amyotrophic lateral scl...</td>\n",
       "    </tr>\n",
       "    <tr>\n",
       "      <th>3</th>\n",
       "      <td>Brain Map of Intrinsic Functional Flexibility ...</td>\n",
       "      <td>Wang, Zheng</td>\n",
       "      <td>2019.0</td>\n",
       "      <td>Frontiers in Neuroscience</td>\n",
       "      <td>Emerging neuroimaging studies emphasize the dy...</td>\n",
       "      <td>dynamic brain organization; intrinsic function...</td>\n",
       "    </tr>\n",
       "    <tr>\n",
       "      <th>4</th>\n",
       "      <td>Low CSF melanotransferrin is associated with c...</td>\n",
       "      <td>So, Po-Wah</td>\n",
       "      <td>2019.0</td>\n",
       "      <td>Frontiers in Neuroscience</td>\n",
       "      <td>The disruption of iron metabolism and iron tra...</td>\n",
       "      <td>Alzheimer’s disease; CSF; Iron; MCI; Melanotra...</td>\n",
       "    </tr>\n",
       "  </tbody>\n",
       "</table>\n",
       "</div>"
      ],
      "text/plain": [
       "                                               title  \\\n",
       "0  HUMAN MUSCLE PROGENITOR CELLS OVEREXPRESSING N...   \n",
       "1  The Functional Role of Striatal Cholinergic In...   \n",
       "2  Iron Metabolism of the Skeletal Muscle and Neu...   \n",
       "3  Brain Map of Intrinsic Functional Flexibility ...   \n",
       "4  Low CSF melanotransferrin is associated with c...   \n",
       "\n",
       "            citation_author  citation_date        citation_journal_title  \\\n",
       "0             Offen, Daniel         2019.0     Frontiers in Neuroscience   \n",
       "1       Molkov, Yaroslav I.         2019.0  Frontiers in Neural Circuits   \n",
       "2  Herman-Antosiewicz, Anna         2019.0     Frontiers in Neuroscience   \n",
       "3               Wang, Zheng         2019.0     Frontiers in Neuroscience   \n",
       "4                So, Po-Wah         2019.0     Frontiers in Neuroscience   \n",
       "\n",
       "                                         description  \\\n",
       "0  The peripheral nervous system has an intrinsic...   \n",
       "1  In this study, we explore the functional role ...   \n",
       "2  Recent studies clearly indicate that endocrine...   \n",
       "3  Emerging neuroimaging studies emphasize the dy...   \n",
       "4  The disruption of iron metabolism and iron tra...   \n",
       "\n",
       "                                            keywords  \n",
       "0  Human muscle progenitor cells; Neurotrophic fa...  \n",
       "1  Striatum; Basal Ganglia; Reinforcement   Learn...  \n",
       "2  myokine, ; Iron,; ALS, amyotrophic lateral scl...  \n",
       "3  dynamic brain organization; intrinsic function...  \n",
       "4  Alzheimer’s disease; CSF; Iron; MCI; Melanotra...  "
      ]
     },
     "execution_count": 28,
     "metadata": {},
     "output_type": "execute_result"
    }
   ],
   "source": [
    "neuro_df.head()"
   ]
  },
  {
   "cell_type": "code",
   "execution_count": 29,
   "metadata": {},
   "outputs": [
    {
     "data": {
      "text/html": [
       "<div>\n",
       "<style scoped>\n",
       "    .dataframe tbody tr th:only-of-type {\n",
       "        vertical-align: middle;\n",
       "    }\n",
       "\n",
       "    .dataframe tbody tr th {\n",
       "        vertical-align: top;\n",
       "    }\n",
       "\n",
       "    .dataframe thead th {\n",
       "        text-align: right;\n",
       "    }\n",
       "</style>\n",
       "<table border=\"1\" class=\"dataframe\">\n",
       "  <thead>\n",
       "    <tr style=\"text-align: right;\">\n",
       "      <th></th>\n",
       "      <th>Country; Year</th>\n",
       "      <th>Government expenditures on mental hospitals as a percentage of total government expenditures on mental health (%)</th>\n",
       "      <th>Stand-alone law for mental health</th>\n",
       "      <th>Year the law was enacted (latest revision)</th>\n",
       "      <th>Stand-alone policy or plan for mental health</th>\n",
       "      <th>Publication year of the policy or plan (latest revision)</th>\n",
       "    </tr>\n",
       "  </thead>\n",
       "  <tbody>\n",
       "    <tr>\n",
       "      <th>0</th>\n",
       "      <td>Afghanistan; 2016</td>\n",
       "      <td>NaN</td>\n",
       "      <td>Yes</td>\n",
       "      <td>1987</td>\n",
       "      <td>Yes</td>\n",
       "      <td>2016.0</td>\n",
       "    </tr>\n",
       "    <tr>\n",
       "      <th>1</th>\n",
       "      <td>Afghanistan; 2014</td>\n",
       "      <td>NaN</td>\n",
       "      <td>Yes</td>\n",
       "      <td>NaN</td>\n",
       "      <td>Yes</td>\n",
       "      <td>NaN</td>\n",
       "    </tr>\n",
       "    <tr>\n",
       "      <th>2</th>\n",
       "      <td>Albania; 2016</td>\n",
       "      <td>NaN</td>\n",
       "      <td>Yes</td>\n",
       "      <td>2012</td>\n",
       "      <td>Yes</td>\n",
       "      <td>2013.0</td>\n",
       "    </tr>\n",
       "    <tr>\n",
       "      <th>3</th>\n",
       "      <td>Albania; 2014</td>\n",
       "      <td>NaN</td>\n",
       "      <td>Yes</td>\n",
       "      <td>NaN</td>\n",
       "      <td>Yes</td>\n",
       "      <td>NaN</td>\n",
       "    </tr>\n",
       "    <tr>\n",
       "      <th>4</th>\n",
       "      <td>Algeria; 2016</td>\n",
       "      <td>NaN</td>\n",
       "      <td>Yes</td>\n",
       "      <td>1905</td>\n",
       "      <td>No</td>\n",
       "      <td>NaN</td>\n",
       "    </tr>\n",
       "  </tbody>\n",
       "</table>\n",
       "</div>"
      ],
      "text/plain": [
       "       Country; Year  \\\n",
       "0  Afghanistan; 2016   \n",
       "1  Afghanistan; 2014   \n",
       "2      Albania; 2016   \n",
       "3      Albania; 2014   \n",
       "4      Algeria; 2016   \n",
       "\n",
       "   Government expenditures on mental hospitals as a percentage of total government expenditures on mental health (%)  \\\n",
       "0                                                NaN                                                                   \n",
       "1                                                NaN                                                                   \n",
       "2                                                NaN                                                                   \n",
       "3                                                NaN                                                                   \n",
       "4                                                NaN                                                                   \n",
       "\n",
       "  Stand-alone law for mental health  \\\n",
       "0                               Yes   \n",
       "1                               Yes   \n",
       "2                               Yes   \n",
       "3                               Yes   \n",
       "4                               Yes   \n",
       "\n",
       "  Year the law was enacted (latest revision)  \\\n",
       "0                                       1987   \n",
       "1                                        NaN   \n",
       "2                                       2012   \n",
       "3                                        NaN   \n",
       "4                                       1905   \n",
       "\n",
       "  Stand-alone policy or plan for mental health  \\\n",
       "0                                          Yes   \n",
       "1                                          Yes   \n",
       "2                                          Yes   \n",
       "3                                          Yes   \n",
       "4                                           No   \n",
       "\n",
       "   Publication year of the policy or plan (latest revision)  \n",
       "0                                             2016.0         \n",
       "1                                                NaN         \n",
       "2                                             2013.0         \n",
       "3                                                NaN         \n",
       "4                                                NaN         "
      ]
     },
     "execution_count": 29,
     "metadata": {},
     "output_type": "execute_result"
    }
   ],
   "source": [
    "mental_df.head()"
   ]
  },
  {
   "cell_type": "code",
   "execution_count": 30,
   "metadata": {},
   "outputs": [
    {
     "data": {
      "text/plain": [
       "title                      object\n",
       "citation_author            object\n",
       "citation_date             float64\n",
       "citation_journal_title     object\n",
       "description                object\n",
       "keywords                   object\n",
       "dtype: object"
      ]
     },
     "execution_count": 30,
     "metadata": {},
     "output_type": "execute_result"
    }
   ],
   "source": [
    "neuro_df.dtypes"
   ]
  },
  {
   "cell_type": "markdown",
   "metadata": {
    "heading_collapsed": true
   },
   "source": [
    "## Get String Lengths"
   ]
  },
  {
   "cell_type": "code",
   "execution_count": 33,
   "metadata": {
    "hidden": true
   },
   "outputs": [],
   "source": [
    "def string_length(column):\n",
    "    length = []\n",
    "    for index in neuro_df[column]:\n",
    "        l1 = (len(str(index)))\n",
    "        length.append(l1)\n",
    "    print(f\"{column}: {max(length)}\")"
   ]
  },
  {
   "cell_type": "code",
   "execution_count": 35,
   "metadata": {
    "hidden": true
   },
   "outputs": [
    {
     "name": "stdout",
     "output_type": "stream",
     "text": [
      "title: 200\n",
      "citation_author: 51\n",
      "citation_journal_title: 39\n",
      "description: 2853\n",
      "keywords: 807\n"
     ]
    }
   ],
   "source": [
    "string_length(\"title\")\n",
    "string_length(\"citation_author\")\n",
    "string_length(\"citation_journal_title\")\n",
    "string_length(\"description\")\n",
    "string_length(\"keywords\")"
   ]
  },
  {
   "cell_type": "markdown",
   "metadata": {
    "heading_collapsed": true
   },
   "source": [
    "## SQL Connection"
   ]
  },
  {
   "cell_type": "code",
   "execution_count": 38,
   "metadata": {
    "hidden": true
   },
   "outputs": [],
   "source": [
    "eng = create_engine('postgresql+psycopg2://'+ username +':' + pgpass + '@' +host_loc + ':' + cred_port + '/' + db)\n",
    "conn = eng.connect()"
   ]
  },
  {
   "cell_type": "code",
   "execution_count": 39,
   "metadata": {
    "hidden": true
   },
   "outputs": [
    {
     "name": "stdout",
     "output_type": "stream",
     "text": [
      "['neuroscience', 'mental_health_pol']\n"
     ]
    }
   ],
   "source": [
    "print(eng.table_names())"
   ]
  },
  {
   "cell_type": "code",
   "execution_count": null,
   "metadata": {
    "hidden": true
   },
   "outputs": [],
   "source": []
  }
 ],
 "metadata": {
  "kernelspec": {
   "display_name": "Python 3",
   "language": "python",
   "name": "python3"
  },
  "language_info": {
   "codemirror_mode": {
    "name": "ipython",
    "version": 3
   },
   "file_extension": ".py",
   "mimetype": "text/x-python",
   "name": "python",
   "nbconvert_exporter": "python",
   "pygments_lexer": "ipython3",
   "version": "3.7.3"
  }
 },
 "nbformat": 4,
 "nbformat_minor": 2
}
